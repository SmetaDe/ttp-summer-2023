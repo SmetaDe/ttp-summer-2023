{
  "nbformat": 4,
  "nbformat_minor": 0,
  "metadata": {
    "colab": {
      "provenance": [],
      "authorship_tag": "ABX9TyMUalBYm9Ufm4TeGCVnUld8",
      "include_colab_link": true
    },
    "kernelspec": {
      "name": "python3",
      "display_name": "Python 3"
    },
    "language_info": {
      "name": "python"
    }
  },
  "cells": [
    {
      "cell_type": "markdown",
      "metadata": {
        "id": "view-in-github",
        "colab_type": "text"
      },
      "source": [
        "<a href=\"https://colab.research.google.com/github/SmetaDe/ttp-summer-2023/blob/main/Intro_to_PythonII.ipynb\" target=\"_parent\"><img src=\"https://colab.research.google.com/assets/colab-badge.svg\" alt=\"Open In Colab\"/></a>"
      ]
    },
    {
      "cell_type": "markdown",
      "source": [
        "####Operators"
      ],
      "metadata": {
        "id": "6qGdah3bt339"
      }
    },
    {
      "cell_type": "code",
      "source": [
        "is_day = True\n",
        "is_night = False\n",
        "\n",
        "print(is_day)\n",
        "# is_day is assigned true so it's printing the assigned value."
      ],
      "metadata": {
        "colab": {
          "base_uri": "https://localhost:8080/"
        },
        "id": "W5nEHmSguBpY",
        "outputId": "bfb1ae96-e80d-497a-9f28-8dd1d9318c66"
      },
      "execution_count": null,
      "outputs": [
        {
          "output_type": "stream",
          "name": "stdout",
          "text": [
            "True\n"
          ]
        }
      ]
    },
    {
      "cell_type": "markdown",
      "source": [
        "## Comparison Operators"
      ],
      "metadata": {
        "id": "uyw6FS5OuBl6"
      }
    },
    {
      "cell_type": "code",
      "source": [
        "x, y = 9, 25"
      ],
      "metadata": {
        "id": "fw0Z8uKOuBjP"
      },
      "execution_count": null,
      "outputs": []
    },
    {
      "cell_type": "code",
      "source": [
        "print(x == y) # is x equal to y. Since 9 is not equal to 25 it's printing false."
      ],
      "metadata": {
        "colab": {
          "base_uri": "https://localhost:8080/"
        },
        "id": "EpcfVdLJuBgn",
        "outputId": "6a0b803c-3e88-4002-e1d9-65568b07979f"
      },
      "execution_count": null,
      "outputs": [
        {
          "output_type": "stream",
          "name": "stdout",
          "text": [
            "False\n"
          ]
        }
      ]
    },
    {
      "cell_type": "code",
      "source": [
        "print(x !=y) # its not equal to. Since 9 is not equal to 25 it's printing TRUE."
      ],
      "metadata": {
        "colab": {
          "base_uri": "https://localhost:8080/"
        },
        "id": "Diur4WyYuBeC",
        "outputId": "a85b21e9-a8df-4e2c-f0c7-a84a2d17bf96"
      },
      "execution_count": null,
      "outputs": [
        {
          "output_type": "stream",
          "name": "stdout",
          "text": [
            "True\n"
          ]
        }
      ]
    },
    {
      "cell_type": "code",
      "source": [
        "print(x > y) # x is not greater than y."
      ],
      "metadata": {
        "colab": {
          "base_uri": "https://localhost:8080/"
        },
        "id": "QwnlhRaVuBbY",
        "outputId": "49af6d51-0c27-4e50-a04f-4b0516abb905"
      },
      "execution_count": null,
      "outputs": [
        {
          "output_type": "stream",
          "name": "stdout",
          "text": [
            "False\n"
          ]
        }
      ]
    },
    {
      "cell_type": "code",
      "source": [
        "print(x < y) # X is less than y."
      ],
      "metadata": {
        "colab": {
          "base_uri": "https://localhost:8080/"
        },
        "id": "cIxpCnvhuBYz",
        "outputId": "c895d71f-ab3b-4084-a526-3a5496b09bf0"
      },
      "execution_count": null,
      "outputs": [
        {
          "output_type": "stream",
          "name": "stdout",
          "text": [
            "True\n"
          ]
        }
      ]
    },
    {
      "cell_type": "code",
      "source": [
        "print(x >= y) # x is  more than or equal to y."
      ],
      "metadata": {
        "colab": {
          "base_uri": "https://localhost:8080/"
        },
        "id": "TyN5iXPGuBWQ",
        "outputId": "2957fa91-e47f-4aea-bc2f-d1a4ab543b5d"
      },
      "execution_count": null,
      "outputs": [
        {
          "output_type": "stream",
          "name": "stdout",
          "text": [
            "False\n"
          ]
        }
      ]
    },
    {
      "cell_type": "code",
      "source": [
        "print(x <=y) # x is less than or equal to y."
      ],
      "metadata": {
        "colab": {
          "base_uri": "https://localhost:8080/"
        },
        "id": "V2f8WFRnuBTW",
        "outputId": "215b2bf8-35e0-4e99-e16e-ec8cf0807eb5"
      },
      "execution_count": null,
      "outputs": [
        {
          "output_type": "stream",
          "name": "stdout",
          "text": [
            "True\n"
          ]
        }
      ]
    },
    {
      "cell_type": "markdown",
      "source": [
        "## Logical operator"
      ],
      "metadata": {
        "id": "yeYrALWPuBRQ"
      }
    },
    {
      "cell_type": "markdown",
      "source": [
        "#### The and operator"
      ],
      "metadata": {
        "id": "7g0jwOLNxdbn"
      }
    },
    {
      "cell_type": "code",
      "source": [
        "x"
      ],
      "metadata": {
        "colab": {
          "base_uri": "https://localhost:8080/"
        },
        "id": "o05-u87RuBOT",
        "outputId": "44866843-50c9-4430-d394-20ccab239af5"
      },
      "execution_count": null,
      "outputs": [
        {
          "output_type": "execute_result",
          "data": {
            "text/plain": [
              "9"
            ]
          },
          "metadata": {},
          "execution_count": 13
        }
      ]
    },
    {
      "cell_type": "code",
      "source": [
        "y"
      ],
      "metadata": {
        "colab": {
          "base_uri": "https://localhost:8080/"
        },
        "id": "vZ0p_rcJuBLM",
        "outputId": "d1b1fa4d-0a7b-467c-fa12-10a0ba5a3f38"
      },
      "execution_count": null,
      "outputs": [
        {
          "output_type": "execute_result",
          "data": {
            "text/plain": [
              "25"
            ]
          },
          "metadata": {},
          "execution_count": 14
        }
      ]
    },
    {
      "cell_type": "code",
      "source": [
        "print(x > 5 and y < 30) # x is more than 5 and y is less than 30.  it's true.\n",
        "print(x > 10 and y < 30) # x is more than 10 and y is less than 30. It's false"
      ],
      "metadata": {
        "colab": {
          "base_uri": "https://localhost:8080/"
        },
        "id": "kYzoMNAYwmdQ",
        "outputId": "2b86da3b-4b9a-4a3d-b4bd-cc0e2ef5a004"
      },
      "execution_count": null,
      "outputs": [
        {
          "output_type": "stream",
          "name": "stdout",
          "text": [
            "True\n",
            "False\n"
          ]
        }
      ]
    },
    {
      "cell_type": "markdown",
      "source": [
        "#### The or operator"
      ],
      "metadata": {
        "id": "cawyYZLpwvIH"
      }
    },
    {
      "cell_type": "code",
      "source": [
        "print(x > 5 or y > 30)\n",
        "print(x > 5 or y > 30)\n",
        " # x is more than 5 and y is more than 30. since the first one is correct it's true."
      ],
      "metadata": {
        "colab": {
          "base_uri": "https://localhost:8080/"
        },
        "id": "fCqXgsxuxrmu",
        "outputId": "98f8c70e-cb98-40dd-bc90-8ae351d08665"
      },
      "execution_count": null,
      "outputs": [
        {
          "output_type": "stream",
          "name": "stdout",
          "text": [
            "True\n",
            "True\n"
          ]
        }
      ]
    },
    {
      "cell_type": "code",
      "source": [],
      "metadata": {
        "id": "mE6cKAGixrjU"
      },
      "execution_count": null,
      "outputs": []
    },
    {
      "cell_type": "code",
      "source": [],
      "metadata": {
        "id": "Xde6oyYExrgx"
      },
      "execution_count": null,
      "outputs": []
    },
    {
      "cell_type": "markdown",
      "source": [
        "# Collection Data Types"
      ],
      "metadata": {
        "id": "UVS1RMiNxreI"
      }
    },
    {
      "cell_type": "markdown",
      "source": [
        "## Lists"
      ],
      "metadata": {
        "id": "HXgXtgVKxrat"
      }
    },
    {
      "cell_type": "code",
      "source": [
        "numbers = [3, 7, 5, 4, 7, 5, 6, 3, 3, 3, 3]\n",
        "print(numbers)\n",
        "print(numbers[1])\n",
        "print(numbers[-1])\n",
        "# [1] refers to the element at index 1. And [-1] refers to the last element."
      ],
      "metadata": {
        "colab": {
          "base_uri": "https://localhost:8080/"
        },
        "id": "_5PdMK1nzCny",
        "outputId": "d9b891f6-3743-4e1d-fc47-92984168ed89"
      },
      "execution_count": null,
      "outputs": [
        {
          "output_type": "stream",
          "name": "stdout",
          "text": [
            "[3, 7, 5, 4, 7, 5, 6, 3, 3, 3, 3]\n",
            "7\n",
            "3\n"
          ]
        }
      ]
    },
    {
      "cell_type": "code",
      "source": [
        "names = [\"Alice\", \"Bob\", \"Carol\", \"Dan\"]\n",
        "print(names[0])\n",
        "print(names[2])\n",
        "#[0] refers to the first element and [2] refers to the 2nd element"
      ],
      "metadata": {
        "colab": {
          "base_uri": "https://localhost:8080/"
        },
        "id": "KuncslIazCS0",
        "outputId": "4dfcfd00-b96c-4502-af29-bab9841fd5d2"
      },
      "execution_count": null,
      "outputs": [
        {
          "output_type": "stream",
          "name": "stdout",
          "text": [
            "Alice\n",
            "Carol\n"
          ]
        }
      ]
    },
    {
      "cell_type": "code",
      "source": [
        "print( names[0][1])\n",
        "# the code prints the first element of the list, the third element of the list, and the character at index 1 of the first element"
      ],
      "metadata": {
        "colab": {
          "base_uri": "https://localhost:8080/"
        },
        "id": "znseq72YzCPW",
        "outputId": "96b7b0b4-1028-4689-c0c6-d5757d695da4"
      },
      "execution_count": null,
      "outputs": [
        {
          "output_type": "stream",
          "name": "stdout",
          "text": [
            "l\n"
          ]
        }
      ]
    },
    {
      "cell_type": "code",
      "source": [
        "print(names[-1])\n",
        "print(names[-3])\n",
        "# negative numbers count starts from the end.\n"
      ],
      "metadata": {
        "colab": {
          "base_uri": "https://localhost:8080/"
        },
        "id": "Bn3zhJ_DzCMD",
        "outputId": "d17d58bf-ca33-42d9-87a3-81dafab41246"
      },
      "execution_count": null,
      "outputs": [
        {
          "output_type": "stream",
          "name": "stdout",
          "text": [
            "Dan\n",
            "Bob\n"
          ]
        }
      ]
    },
    {
      "cell_type": "code",
      "source": [
        "print(names[1:3])\n",
        "# printing the names form 1 up to 3 but not including 3."
      ],
      "metadata": {
        "colab": {
          "base_uri": "https://localhost:8080/"
        },
        "id": "mCwraJfozCH0",
        "outputId": "d4d413ee-ae80-4e54-ebfa-344e96d0c931"
      },
      "execution_count": null,
      "outputs": [
        {
          "output_type": "stream",
          "name": "stdout",
          "text": [
            "['Bob', 'Carol']\n"
          ]
        }
      ]
    },
    {
      "cell_type": "code",
      "source": [
        "print(names[0:4])\n",
        "# the ending index is exclusive"
      ],
      "metadata": {
        "colab": {
          "base_uri": "https://localhost:8080/"
        },
        "id": "yfbsWkUDzCDz",
        "outputId": "e0a97db5-8556-4f25-fecd-b3d9946f72e7"
      },
      "execution_count": null,
      "outputs": [
        {
          "output_type": "stream",
          "name": "stdout",
          "text": [
            "['Alice', 'Bob', 'Carol', 'Dan']\n"
          ]
        }
      ]
    },
    {
      "cell_type": "code",
      "source": [
        "print(names[0:-1])\n",
        "# Not included [-1]"
      ],
      "metadata": {
        "colab": {
          "base_uri": "https://localhost:8080/"
        },
        "id": "T7Szuc4hzCAu",
        "outputId": "3429553a-cddd-4b64-fb7c-ecf7745c724b"
      },
      "execution_count": null,
      "outputs": [
        {
          "output_type": "stream",
          "name": "stdout",
          "text": [
            "['Alice', 'Bob', 'Carol']\n"
          ]
        }
      ]
    },
    {
      "cell_type": "code",
      "source": [
        "print(names[0:])\n",
        "# includes everything in the list"
      ],
      "metadata": {
        "colab": {
          "base_uri": "https://localhost:8080/"
        },
        "id": "6xs8UwPozB82",
        "outputId": "7cea1079-736a-405f-d777-161eb7afccda"
      },
      "execution_count": null,
      "outputs": [
        {
          "output_type": "stream",
          "name": "stdout",
          "text": [
            "['Alice', 'Bob', 'Carol', 'Dan']\n"
          ]
        }
      ]
    },
    {
      "cell_type": "code",
      "source": [
        "names = ['Alice', 'Bob', 'Carol', 'Dan']"
      ],
      "metadata": {
        "id": "_hr0lpv20Etv"
      },
      "execution_count": null,
      "outputs": []
    },
    {
      "cell_type": "code",
      "source": [
        "print(names)\n",
        "name[1] = 'Bobby'\n",
        "print(names)"
      ],
      "metadata": {
        "colab": {
          "base_uri": "https://localhost:8080/",
          "height": 217
        },
        "id": "09sj-DMQRB0S",
        "outputId": "0b621ed2-e3d3-4aaa-e409-3e1b8c401e98"
      },
      "execution_count": null,
      "outputs": [
        {
          "output_type": "stream",
          "name": "stdout",
          "text": [
            "['Alice', 'Bob', 'Carol', 'Dan']\n"
          ]
        },
        {
          "output_type": "error",
          "ename": "NameError",
          "evalue": "ignored",
          "traceback": [
            "\u001b[0;31m---------------------------------------------------------------------------\u001b[0m",
            "\u001b[0;31mNameError\u001b[0m                                 Traceback (most recent call last)",
            "\u001b[0;32m<ipython-input-9-7848937eacf2>\u001b[0m in \u001b[0;36m<cell line: 2>\u001b[0;34m()\u001b[0m\n\u001b[1;32m      1\u001b[0m \u001b[0mprint\u001b[0m\u001b[0;34m(\u001b[0m\u001b[0mnames\u001b[0m\u001b[0;34m)\u001b[0m\u001b[0;34m\u001b[0m\u001b[0;34m\u001b[0m\u001b[0m\n\u001b[0;32m----> 2\u001b[0;31m \u001b[0mname\u001b[0m\u001b[0;34m[\u001b[0m\u001b[0;36m1\u001b[0m\u001b[0;34m]\u001b[0m \u001b[0;34m=\u001b[0m \u001b[0;34m'Bobby'\u001b[0m\u001b[0;34m\u001b[0m\u001b[0;34m\u001b[0m\u001b[0m\n\u001b[0m\u001b[1;32m      3\u001b[0m \u001b[0mprint\u001b[0m\u001b[0;34m(\u001b[0m\u001b[0mnames\u001b[0m\u001b[0;34m)\u001b[0m\u001b[0;34m\u001b[0m\u001b[0;34m\u001b[0m\u001b[0m\n",
            "\u001b[0;31mNameError\u001b[0m: name 'name' is not defined"
          ]
        }
      ]
    },
    {
      "cell_type": "code",
      "source": [],
      "metadata": {
        "id": "r1oXUmSBRBwt"
      },
      "execution_count": null,
      "outputs": []
    },
    {
      "cell_type": "code",
      "source": [],
      "metadata": {
        "id": "Y1xERkUnRBuR"
      },
      "execution_count": null,
      "outputs": []
    },
    {
      "cell_type": "code",
      "source": [],
      "metadata": {
        "id": "6KIwnOxRRBoS"
      },
      "execution_count": null,
      "outputs": []
    },
    {
      "cell_type": "code",
      "source": [],
      "metadata": {
        "id": "mO5M7CEd1hO8"
      },
      "execution_count": null,
      "outputs": []
    },
    {
      "cell_type": "code",
      "source": [
        "#Task: Create a list of 10 numbers"
      ],
      "metadata": {
        "id": "-MBKIdsO2jfE"
      },
      "execution_count": null,
      "outputs": []
    },
    {
      "cell_type": "code",
      "source": [
        "lst = []\n",
        "counter = 11\n",
        "for x in range(10):\n",
        "  counter -= 1\n",
        "  lst.append(input(f\"Enter The {counter} items:\"))\n",
        "print(lst)"
      ],
      "metadata": {
        "colab": {
          "base_uri": "https://localhost:8080/"
        },
        "id": "aHnVNJA42jbi",
        "outputId": "772ac040-e0a8-46cf-8b6a-402a710e04b5"
      },
      "execution_count": null,
      "outputs": [
        {
          "output_type": "stream",
          "name": "stdout",
          "text": [
            "Enter The 10 items:mango1\n",
            "Enter The 9 items:mango2\n",
            "Enter The 8 items:mango3\n",
            "Enter The 7 items:mango4\n",
            "Enter The 6 items:mango5\n",
            "Enter The 5 items:mango6\n",
            "Enter The 4 items:mango7\n",
            "Enter The 3 items:mango8\n",
            "Enter The 2 items:mango9\n",
            "Enter The 1 items:mango10\n",
            "['mango1', 'mango2', 'mango3', 'mango4', 'mango5', 'mango6', 'mango7', 'mango8', 'mango9', 'mango10']\n"
          ]
        }
      ]
    },
    {
      "cell_type": "markdown",
      "source": [
        "#### Nested Lists"
      ],
      "metadata": {
        "id": "eHiJpC9L3gB7"
      }
    },
    {
      "cell_type": "code",
      "source": [
        "matrix = [[1, 2, 3], [4, 5, 6], [7, 8, 9]] # 3*3 matrix"
      ],
      "metadata": {
        "id": "yNP7aYE4QwR6"
      },
      "execution_count": null,
      "outputs": []
    },
    {
      "cell_type": "code",
      "source": [
        "print(matrix) # prints all the matrix"
      ],
      "metadata": {
        "colab": {
          "base_uri": "https://localhost:8080/"
        },
        "id": "kJoH65UOQwKK",
        "outputId": "efdfd0db-00da-4961-c467-adca3a33fb5d"
      },
      "execution_count": null,
      "outputs": [
        {
          "output_type": "stream",
          "name": "stdout",
          "text": [
            "[[1, 2, 3], [4, 5, 6], [7, 8, 9]]\n"
          ]
        }
      ]
    },
    {
      "cell_type": "code",
      "source": [
        "print(matrix[1][2])\n",
        "# refers to the value at the second row, third column, which is 6."
      ],
      "metadata": {
        "colab": {
          "base_uri": "https://localhost:8080/"
        },
        "id": "JuiZCmDPSOHB",
        "outputId": "bab5cd91-1c74-4109-9907-b2bfa4344397"
      },
      "execution_count": null,
      "outputs": [
        {
          "output_type": "stream",
          "name": "stdout",
          "text": [
            "6\n"
          ]
        }
      ]
    },
    {
      "cell_type": "code",
      "source": [
        "print(matrix[2][0])\n",
        "# refers to the value at the third row, first column, which is 7."
      ],
      "metadata": {
        "colab": {
          "base_uri": "https://localhost:8080/"
        },
        "id": "OblEKzbAQwGn",
        "outputId": "323c590c-e075-46a3-cb5c-3d8cae60b75d"
      },
      "execution_count": null,
      "outputs": [
        {
          "output_type": "stream",
          "name": "stdout",
          "text": [
            "7\n"
          ]
        }
      ]
    },
    {
      "cell_type": "code",
      "source": [
        "matrix = [[[1, 2], [3, 4, 6, 4, 6]], [[5,6], [7, 8]]]\n",
        "print(matrix)\n",
        "print(matrix[0][1][0])\n",
        "# matrix[0] refers to the first element of the outermost list. matrix[0] refers to the first element of the outermost list. matrix[0][1][0] refers to the first element of this sublist, which is 3"
      ],
      "metadata": {
        "colab": {
          "base_uri": "https://localhost:8080/"
        },
        "id": "t9ydevrgSCuM",
        "outputId": "73a1cdd8-e404-4a6c-985d-913cc9539e2f"
      },
      "execution_count": null,
      "outputs": [
        {
          "output_type": "stream",
          "name": "stdout",
          "text": [
            "[[[1, 2], [3, 4, 6, 4, 6]], [[5, 6], [7, 8]]]\n",
            "3\n"
          ]
        }
      ]
    },
    {
      "cell_type": "code",
      "source": [
        "print(len(matrix))\n",
        "print(len(matrix[0][1]))"
      ],
      "metadata": {
        "colab": {
          "base_uri": "https://localhost:8080/"
        },
        "id": "dmBHU_gxSCqn",
        "outputId": "e571eee5-13f6-4118-ba8c-9febac937b6a"
      },
      "execution_count": null,
      "outputs": [
        {
          "output_type": "stream",
          "name": "stdout",
          "text": [
            "2\n",
            "5\n"
          ]
        }
      ]
    },
    {
      "cell_type": "markdown",
      "source": [
        "####Lists Functions"
      ],
      "metadata": {
        "id": "1vQ9HcktSCnc"
      }
    },
    {
      "cell_type": "code",
      "source": [
        "pets = ['cat', 'dog', 'parrot']\n",
        "print(len(pets))\n",
        " # Printing the length of the list (number of elements in the list)"
      ],
      "metadata": {
        "colab": {
          "base_uri": "https://localhost:8080/"
        },
        "id": "q_IkdzdISCkd",
        "outputId": "a4dfe313-aee6-4afa-a32f-12fb2f8f2469"
      },
      "execution_count": null,
      "outputs": [
        {
          "output_type": "stream",
          "name": "stdout",
          "text": [
            "3\n"
          ]
        }
      ]
    },
    {
      "cell_type": "code",
      "source": [
        "print(pets)\n",
        "pets.append('fish') # Adding 'fish' to the list of pets using the append() method\n",
        "print(pets)"
      ],
      "metadata": {
        "colab": {
          "base_uri": "https://localhost:8080/"
        },
        "id": "bspXrQHaSChJ",
        "outputId": "323897db-62a2-4a0f-f283-ab0f7669cd8e"
      },
      "execution_count": null,
      "outputs": [
        {
          "output_type": "stream",
          "name": "stdout",
          "text": [
            "['cat', 'dog', 'parrot']\n",
            "['cat', 'dog', 'parrot', 'fish']\n"
          ]
        }
      ]
    },
    {
      "cell_type": "code",
      "source": [
        "dir(pets)"
      ],
      "metadata": {
        "colab": {
          "base_uri": "https://localhost:8080/"
        },
        "id": "4FgIHnXKAKN2",
        "outputId": "2e85d06a-c45c-4709-e798-57a7227e08dd"
      },
      "execution_count": null,
      "outputs": [
        {
          "output_type": "execute_result",
          "data": {
            "text/plain": [
              "['__add__',\n",
              " '__class__',\n",
              " '__class_getitem__',\n",
              " '__contains__',\n",
              " '__delattr__',\n",
              " '__delitem__',\n",
              " '__dir__',\n",
              " '__doc__',\n",
              " '__eq__',\n",
              " '__format__',\n",
              " '__ge__',\n",
              " '__getattribute__',\n",
              " '__getitem__',\n",
              " '__gt__',\n",
              " '__hash__',\n",
              " '__iadd__',\n",
              " '__imul__',\n",
              " '__init__',\n",
              " '__init_subclass__',\n",
              " '__iter__',\n",
              " '__le__',\n",
              " '__len__',\n",
              " '__lt__',\n",
              " '__mul__',\n",
              " '__ne__',\n",
              " '__new__',\n",
              " '__reduce__',\n",
              " '__reduce_ex__',\n",
              " '__repr__',\n",
              " '__reversed__',\n",
              " '__rmul__',\n",
              " '__setattr__',\n",
              " '__setitem__',\n",
              " '__sizeof__',\n",
              " '__str__',\n",
              " '__subclasshook__',\n",
              " 'append',\n",
              " 'clear',\n",
              " 'copy',\n",
              " 'count',\n",
              " 'extend',\n",
              " 'index',\n",
              " 'insert',\n",
              " 'pop',\n",
              " 'remove',\n",
              " 'reverse',\n",
              " 'sort']"
            ]
          },
          "metadata": {},
          "execution_count": 5
        }
      ]
    },
    {
      "cell_type": "code",
      "source": [
        "pets.insert(1, 'hamster')\n",
        "print(pets)"
      ],
      "metadata": {
        "colab": {
          "base_uri": "https://localhost:8080/"
        },
        "id": "_do8ubeMSCer",
        "outputId": "4944f3a6-5283-4edf-f288-57d5a1d47ae6"
      },
      "execution_count": null,
      "outputs": [
        {
          "output_type": "stream",
          "name": "stdout",
          "text": [
            "['cat', 'hamster', 'hamster', 'dog', 'parrot', 'fish']\n"
          ]
        }
      ]
    },
    {
      "cell_type": "code",
      "source": [
        "print('cat' in pets)"
      ],
      "metadata": {
        "colab": {
          "base_uri": "https://localhost:8080/"
        },
        "id": "o9sSsuo8SCb0",
        "outputId": "71917ae9-f6a0-474c-c246-1f3f6d2820cf"
      },
      "execution_count": null,
      "outputs": [
        {
          "output_type": "stream",
          "name": "stdout",
          "text": [
            "True\n"
          ]
        }
      ]
    },
    {
      "cell_type": "code",
      "source": [
        "print('tiger' in pets)"
      ],
      "metadata": {
        "colab": {
          "base_uri": "https://localhost:8080/"
        },
        "id": "s0IXbR_XSCZb",
        "outputId": "5e830377-d011-48c8-96b8-690581b0a32a"
      },
      "execution_count": null,
      "outputs": [
        {
          "output_type": "stream",
          "name": "stdout",
          "text": [
            "False\n"
          ]
        }
      ]
    },
    {
      "cell_type": "code",
      "source": [
        "pets.remove('fish')"
      ],
      "metadata": {
        "id": "fxqjEMfkSCVj"
      },
      "execution_count": null,
      "outputs": []
    },
    {
      "cell_type": "code",
      "source": [
        "pets.remove(pets[3])"
      ],
      "metadata": {
        "id": "MHxs9G0YQv-l"
      },
      "execution_count": null,
      "outputs": []
    },
    {
      "cell_type": "code",
      "source": [
        "pets.pop()"
      ],
      "metadata": {
        "colab": {
          "base_uri": "https://localhost:8080/",
          "height": 35
        },
        "id": "vhXivEJ-UOoW",
        "outputId": "76e5d8c4-9a5d-432b-92a6-8253287bd0c7"
      },
      "execution_count": null,
      "outputs": [
        {
          "output_type": "execute_result",
          "data": {
            "text/plain": [
              "'dog'"
            ],
            "application/vnd.google.colaboratory.intrinsic+json": {
              "type": "string"
            }
          },
          "metadata": {},
          "execution_count": 54
        }
      ]
    },
    {
      "cell_type": "code",
      "source": [
        "pets.pop(0)"
      ],
      "metadata": {
        "colab": {
          "base_uri": "https://localhost:8080/",
          "height": 35
        },
        "id": "MHEP5KCqURET",
        "outputId": "4bbdbd17-07a6-4c87-e0c3-ebdfef653732"
      },
      "execution_count": null,
      "outputs": [
        {
          "output_type": "execute_result",
          "data": {
            "text/plain": [
              "'cat'"
            ],
            "application/vnd.google.colaboratory.intrinsic+json": {
              "type": "string"
            }
          },
          "metadata": {},
          "execution_count": 55
        }
      ]
    },
    {
      "cell_type": "code",
      "source": [
        "pets = ['cat', 'dog', 'parrot']"
      ],
      "metadata": {
        "id": "C7SQdJPdUQ-k"
      },
      "execution_count": null,
      "outputs": []
    },
    {
      "cell_type": "code",
      "source": [
        "del pets[1]"
      ],
      "metadata": {
        "id": "FmmRH4WdUQ6_"
      },
      "execution_count": null,
      "outputs": []
    },
    {
      "cell_type": "code",
      "source": [
        "pets"
      ],
      "metadata": {
        "colab": {
          "base_uri": "https://localhost:8080/"
        },
        "id": "CCDxMsq3UQ4h",
        "outputId": "4e98aabf-0e5e-4e84-f389-c4d65f892cca"
      },
      "execution_count": null,
      "outputs": [
        {
          "output_type": "execute_result",
          "data": {
            "text/plain": [
              "['cat', 'parrot']"
            ]
          },
          "metadata": {},
          "execution_count": 58
        }
      ]
    },
    {
      "cell_type": "code",
      "source": [
        "pets.clear()"
      ],
      "metadata": {
        "id": "65YXdrCjUQyZ"
      },
      "execution_count": null,
      "outputs": []
    },
    {
      "cell_type": "code",
      "source": [
        "pets"
      ],
      "metadata": {
        "colab": {
          "base_uri": "https://localhost:8080/"
        },
        "id": "uttKn8QXU05i",
        "outputId": "7654131d-a080-4eea-80c3-8f5f2c62222c"
      },
      "execution_count": null,
      "outputs": [
        {
          "output_type": "execute_result",
          "data": {
            "text/plain": [
              "[]"
            ]
          },
          "metadata": {},
          "execution_count": 61
        }
      ]
    },
    {
      "cell_type": "code",
      "source": [
        "pets = None"
      ],
      "metadata": {
        "id": "1opnSZ1PVBNo"
      },
      "execution_count": null,
      "outputs": []
    },
    {
      "cell_type": "code",
      "source": [],
      "metadata": {
        "id": "f2K6zgzBVXy6"
      },
      "execution_count": null,
      "outputs": []
    },
    {
      "cell_type": "markdown",
      "source": [
        "#### Iterators"
      ],
      "metadata": {
        "id": "F0XrDmaoVZpm"
      }
    },
    {
      "cell_type": "code",
      "source": [
        "my_cat = \"Fluffy\"\n",
        "my_iterator = iter(my_cat)"
      ],
      "metadata": {
        "id": "R7qvN5M2VZmO"
      },
      "execution_count": null,
      "outputs": []
    },
    {
      "cell_type": "code",
      "source": [
        "print(next(my_iterator))"
      ],
      "metadata": {
        "colab": {
          "base_uri": "https://localhost:8080/"
        },
        "id": "ytnBWEclVZiy",
        "outputId": "5dcf06ff-8f02-45ff-ee68-751611fe4f2f"
      },
      "execution_count": null,
      "outputs": [
        {
          "output_type": "stream",
          "name": "stdout",
          "text": [
            "F\n"
          ]
        }
      ]
    },
    {
      "cell_type": "code",
      "source": [
        "print(next(my_iterator))"
      ],
      "metadata": {
        "colab": {
          "base_uri": "https://localhost:8080/"
        },
        "id": "0pb4Jn90VZgb",
        "outputId": "d2cac9db-a297-4e60-eeea-0745eab2d35c"
      },
      "execution_count": null,
      "outputs": [
        {
          "output_type": "stream",
          "name": "stdout",
          "text": [
            "l\n"
          ]
        }
      ]
    },
    {
      "cell_type": "code",
      "source": [
        "print(next(my_iterator))"
      ],
      "metadata": {
        "colab": {
          "base_uri": "https://localhost:8080/"
        },
        "id": "59yHqZENVZdM",
        "outputId": "95440d88-6ec3-4fa5-fae7-dbb567557f16"
      },
      "execution_count": null,
      "outputs": [
        {
          "output_type": "stream",
          "name": "stdout",
          "text": [
            "u\n"
          ]
        }
      ]
    },
    {
      "cell_type": "markdown",
      "source": [
        "####Tuples"
      ],
      "metadata": {
        "id": "Of1k_xWiVZal"
      }
    },
    {
      "cell_type": "code",
      "source": [
        "dinner = ('chicken', 'fries', 18)\n",
        "print(dinner)\n",
        "print(type(dinner))"
      ],
      "metadata": {
        "colab": {
          "base_uri": "https://localhost:8080/"
        },
        "id": "jUA-Bl8OVZYC",
        "outputId": "63733735-ede4-4af5-df9f-3138931c6edc"
      },
      "execution_count": null,
      "outputs": [
        {
          "output_type": "stream",
          "name": "stdout",
          "text": [
            "('chicken', 'fries', 18)\n",
            "<class 'tuple'>\n"
          ]
        }
      ]
    },
    {
      "cell_type": "code",
      "source": [
        "breakfast = ('eggs', )\n",
        "print(breakfast)\n",
        "print(type(breakfast))"
      ],
      "metadata": {
        "colab": {
          "base_uri": "https://localhost:8080/"
        },
        "id": "_TlTq7iNVZU4",
        "outputId": "482263d0-c666-4532-c6f4-d9838b043066"
      },
      "execution_count": null,
      "outputs": [
        {
          "output_type": "stream",
          "name": "stdout",
          "text": [
            "('eggs',)\n",
            "<class 'tuple'>\n"
          ]
        }
      ]
    },
    {
      "cell_type": "code",
      "source": [
        "lunch = ()\n",
        "print(lunch)\n",
        "print(type(lunch))"
      ],
      "metadata": {
        "colab": {
          "base_uri": "https://localhost:8080/"
        },
        "id": "X-eYp5aoAdsS",
        "outputId": "47f08f08-c680-4699-c52a-9282c4028bba"
      },
      "execution_count": null,
      "outputs": [
        {
          "output_type": "stream",
          "name": "stdout",
          "text": [
            "()\n",
            "<class 'tuple'>\n"
          ]
        }
      ]
    },
    {
      "cell_type": "code",
      "source": [
        "dir(dinner)"
      ],
      "metadata": {
        "colab": {
          "base_uri": "https://localhost:8080/"
        },
        "id": "KopemDwbAdjc",
        "outputId": "4e3b2e3e-54f4-44f4-a178-95bc47603ab1"
      },
      "execution_count": null,
      "outputs": [
        {
          "output_type": "execute_result",
          "data": {
            "text/plain": [
              "['__add__',\n",
              " '__class__',\n",
              " '__class_getitem__',\n",
              " '__contains__',\n",
              " '__delattr__',\n",
              " '__dir__',\n",
              " '__doc__',\n",
              " '__eq__',\n",
              " '__format__',\n",
              " '__ge__',\n",
              " '__getattribute__',\n",
              " '__getitem__',\n",
              " '__getnewargs__',\n",
              " '__gt__',\n",
              " '__hash__',\n",
              " '__init__',\n",
              " '__init_subclass__',\n",
              " '__iter__',\n",
              " '__le__',\n",
              " '__len__',\n",
              " '__lt__',\n",
              " '__mul__',\n",
              " '__ne__',\n",
              " '__new__',\n",
              " '__reduce__',\n",
              " '__reduce_ex__',\n",
              " '__repr__',\n",
              " '__rmul__',\n",
              " '__setattr__',\n",
              " '__sizeof__',\n",
              " '__str__',\n",
              " '__subclasshook__',\n",
              " 'count',\n",
              " 'index']"
            ]
          },
          "metadata": {},
          "execution_count": 10
        }
      ]
    },
    {
      "cell_type": "code",
      "source": [
        "my_desk = (\"laptop\", \"mouse\", \"paper\", \"pen\")\n",
        "print(my_desk[1])\n",
        "print(my_desk[-1])"
      ],
      "metadata": {
        "colab": {
          "base_uri": "https://localhost:8080/"
        },
        "id": "Ay0G2FIOAsjs",
        "outputId": "3b311704-86ea-487a-c396-3505c932d13c"
      },
      "execution_count": null,
      "outputs": [
        {
          "output_type": "stream",
          "name": "stdout",
          "text": [
            "mouse\n",
            "pen\n"
          ]
        }
      ]
    },
    {
      "cell_type": "code",
      "source": [
        "new_desk = my_desk[1:3]\n",
        "print(new_desk)\n",
        "print(type(new_desk))"
      ],
      "metadata": {
        "colab": {
          "base_uri": "https://localhost:8080/"
        },
        "id": "YSdtveuDAsgN",
        "outputId": "08a47b56-0514-48a6-f312-cd17963144fd"
      },
      "execution_count": null,
      "outputs": [
        {
          "output_type": "stream",
          "name": "stdout",
          "text": [
            "('mouse', 'paper')\n",
            "<class 'tuple'>\n"
          ]
        }
      ]
    },
    {
      "cell_type": "code",
      "source": [
        "print(my_desk[1:])"
      ],
      "metadata": {
        "colab": {
          "base_uri": "https://localhost:8080/"
        },
        "id": "ZR-HfIYCAsZe",
        "outputId": "2e20bee6-9f90-4aa4-c7aa-352b69ff403a"
      },
      "execution_count": null,
      "outputs": [
        {
          "output_type": "stream",
          "name": "stdout",
          "text": [
            "('mouse', 'paper', 'pen')\n"
          ]
        }
      ]
    },
    {
      "cell_type": "code",
      "source": [
        "my_desk = (\"laptop\", \"mouse\", \"paper\", \"pen\")\n",
        "new_desk = my_desk[1:3]\n",
        "print(new_desk)\n",
        "print(type(new_desk))"
      ],
      "metadata": {
        "colab": {
          "base_uri": "https://localhost:8080/"
        },
        "id": "-45gPFgQAyfR",
        "outputId": "d680fcdd-f291-4b3b-fae3-9cebabec0fdb"
      },
      "execution_count": null,
      "outputs": [
        {
          "output_type": "stream",
          "name": "stdout",
          "text": [
            "('mouse', 'paper')\n",
            "<class 'tuple'>\n"
          ]
        }
      ]
    },
    {
      "cell_type": "code",
      "source": [
        "new_desk = my_desk + (\"coffee\", )\n",
        "print(new_desk)\n",
        "print(type(new_desk))"
      ],
      "metadata": {
        "colab": {
          "base_uri": "https://localhost:8080/"
        },
        "id": "HmRAhBdJAycA",
        "outputId": "cc2b2e46-ecc4-446a-989b-d577c7271133"
      },
      "execution_count": null,
      "outputs": [
        {
          "output_type": "stream",
          "name": "stdout",
          "text": [
            "('laptop', 'mouse', 'paper', 'pen', 'coffee')\n",
            "<class 'tuple'>\n"
          ]
        }
      ]
    },
    {
      "cell_type": "code",
      "source": [
        "my_desk_list = list(my_desk)"
      ],
      "metadata": {
        "id": "1IekxNFHAyY1"
      },
      "execution_count": null,
      "outputs": []
    },
    {
      "cell_type": "code",
      "source": [
        "my_desk_list.append(\"phone\")\n",
        "new_desk = tuple(my_desk_list)\n",
        "print(new_desk)\n",
        "print(type(new_desk))"
      ],
      "metadata": {
        "colab": {
          "base_uri": "https://localhost:8080/"
        },
        "id": "CCTgKuq1AyV_",
        "outputId": "2445fcab-d78e-459e-a415-a98fc88ee238"
      },
      "execution_count": null,
      "outputs": [
        {
          "output_type": "stream",
          "name": "stdout",
          "text": [
            "('laptop', 'mouse', 'paper', 'pen', 'phone')\n",
            "<class 'tuple'>\n"
          ]
        }
      ]
    },
    {
      "cell_type": "code",
      "source": [
        "new_desk"
      ],
      "metadata": {
        "colab": {
          "base_uri": "https://localhost:8080/"
        },
        "id": "0INJYXJtA_aV",
        "outputId": "9343f1ef-a29b-40de-c5a1-8e58046ce917"
      },
      "execution_count": null,
      "outputs": [
        {
          "output_type": "execute_result",
          "data": {
            "text/plain": [
              "('laptop', 'mouse', 'paper', 'pen', 'phone')"
            ]
          },
          "metadata": {},
          "execution_count": 18
        }
      ]
    },
    {
      "cell_type": "code",
      "source": [
        "type(new_desk)"
      ],
      "metadata": {
        "colab": {
          "base_uri": "https://localhost:8080/"
        },
        "id": "W-LoOQChBBiy",
        "outputId": "bcb76cb1-7e70-4564-ae51-683f9c1b0dc7"
      },
      "execution_count": null,
      "outputs": [
        {
          "output_type": "execute_result",
          "data": {
            "text/plain": [
              "tuple"
            ]
          },
          "metadata": {},
          "execution_count": 19
        }
      ]
    },
    {
      "cell_type": "code",
      "source": [
        "# new_desk.append('pencil')\n",
        "new_desk = my_desk + (\"pencil\", )"
      ],
      "metadata": {
        "id": "p6k_ou7xBBRW"
      },
      "execution_count": null,
      "outputs": []
    },
    {
      "cell_type": "markdown",
      "source": [
        "#### Tupples use cases"
      ],
      "metadata": {
        "id": "1y9YRnQHXEQA"
      }
    },
    {
      "cell_type": "code",
      "source": [
        "db = ('oracle', 'SQL')\n"
      ],
      "metadata": {
        "id": "991NNI4OZ46j"
      },
      "execution_count": null,
      "outputs": []
    },
    {
      "cell_type": "code",
      "source": [
        "new_db = db + ('username', 'password')\n",
        "print(new_db)\n",
        "print(type(new_db))"
      ],
      "metadata": {
        "colab": {
          "base_uri": "https://localhost:8080/"
        },
        "id": "n8z3HFL3Z43H",
        "outputId": "03494bcb-35a8-42cf-f0c4-9c3aeef571ad"
      },
      "execution_count": null,
      "outputs": [
        {
          "output_type": "stream",
          "name": "stdout",
          "text": [
            "('oracle', 'SQL', 'username', 'password')\n",
            "<class 'tuple'>\n"
          ]
        }
      ]
    },
    {
      "cell_type": "code",
      "source": [
        "friend1 = ('Alex', 25, False)\n",
        "friend2 = ('Diane', 23, False)\n",
        "friend3 = ('Michael', 32, True)"
      ],
      "metadata": {
        "id": "hGmhioZAZ40Z"
      },
      "execution_count": null,
      "outputs": []
    },
    {
      "cell_type": "code",
      "source": [
        "print(friend1)\n",
        "print(friend2)\n",
        "print(friend3)"
      ],
      "metadata": {
        "id": "aYPorI6iZ4xy",
        "colab": {
          "base_uri": "https://localhost:8080/"
        },
        "outputId": "afe1c1e8-61e5-40d9-9578-799f18d4cf6c"
      },
      "execution_count": null,
      "outputs": [
        {
          "output_type": "stream",
          "name": "stdout",
          "text": [
            "('Alex', 25, False)\n",
            "('Diane', 23, False)\n",
            "('Michael', 32, True)\n"
          ]
        }
      ]
    },
    {
      "cell_type": "code",
      "source": [
        "friend2 = (\"Erica\",) + friend2[1:]\n",
        "print(friend2)\n",
        "print(type(friend2))\n"
      ],
      "metadata": {
        "id": "kS0lHZm6Z4vC",
        "colab": {
          "base_uri": "https://localhost:8080/"
        },
        "outputId": "8b7e70d3-6f9d-47c3-faf4-1155d14e6663"
      },
      "execution_count": null,
      "outputs": [
        {
          "output_type": "stream",
          "name": "stdout",
          "text": [
            "('Erica', 23, False)\n",
            "<class 'tuple'>\n"
          ]
        }
      ]
    },
    {
      "cell_type": "markdown",
      "source": [
        "####Tuples Functions"
      ],
      "metadata": {
        "id": "u7IcKDs-Z4pb"
      }
    },
    {
      "cell_type": "code",
      "source": [
        "my_desk = ('laptop', 'mouse', 'paper', 'pen')\n",
        "print(len(my_desk))"
      ],
      "metadata": {
        "id": "yUMpX1SlZ4mv",
        "colab": {
          "base_uri": "https://localhost:8080/"
        },
        "outputId": "5080abaa-1314-4c42-fbfc-09634b4b3759"
      },
      "execution_count": null,
      "outputs": [
        {
          "output_type": "stream",
          "name": "stdout",
          "text": [
            "4\n"
          ]
        }
      ]
    },
    {
      "cell_type": "code",
      "source": [
        "# del my_desk\n",
        "print(my_desk)"
      ],
      "metadata": {
        "id": "u7wiotmaZ4kF",
        "colab": {
          "base_uri": "https://localhost:8080/"
        },
        "outputId": "d0d2b9c4-921d-4487-d637-5bcbaace639b"
      },
      "execution_count": null,
      "outputs": [
        {
          "output_type": "stream",
          "name": "stdout",
          "text": [
            "('laptop', 'mouse', 'paper', 'pen')\n"
          ]
        }
      ]
    },
    {
      "cell_type": "code",
      "source": [
        "digits = (3, 7, 5, 6, 3, 5, 7, 6, 3, 2, 8, 6, 3, 5)\n",
        "print(digits.count(3))\n",
        "print(digits.count(5))"
      ],
      "metadata": {
        "id": "gTbbQOYsZ4h6",
        "colab": {
          "base_uri": "https://localhost:8080/"
        },
        "outputId": "685eb2a1-be9c-4c9d-9eb9-f929177a7494"
      },
      "execution_count": null,
      "outputs": [
        {
          "output_type": "stream",
          "name": "stdout",
          "text": [
            "4\n",
            "3\n"
          ]
        }
      ]
    },
    {
      "cell_type": "code",
      "source": [
        "print(digits.index(8))\n",
        "print(digits.index(7))"
      ],
      "metadata": {
        "id": "IQW7Ra-FZ4fK",
        "colab": {
          "base_uri": "https://localhost:8080/"
        },
        "outputId": "1e64f8a3-933f-4a8c-a18d-660783b46afe"
      },
      "execution_count": null,
      "outputs": [
        {
          "output_type": "stream",
          "name": "stdout",
          "text": [
            "10\n",
            "1\n"
          ]
        }
      ]
    },
    {
      "cell_type": "markdown",
      "source": [
        "#### Sets"
      ],
      "metadata": {
        "id": "W-EKtOqbZ4cH"
      }
    },
    {
      "cell_type": "code",
      "source": [
        "days = {\"Mon\", \"Tue\", \"Wed\", \"Thu\", \"Fri\", \"Tue\", \"Tue\"}"
      ],
      "metadata": {
        "id": "3Gc6NcdWZ4Zm"
      },
      "execution_count": null,
      "outputs": []
    },
    {
      "cell_type": "code",
      "source": [
        "type(days)"
      ],
      "metadata": {
        "colab": {
          "base_uri": "https://localhost:8080/"
        },
        "id": "diseWTb5Z4Wa",
        "outputId": "7da5801f-ba66-44a3-de1b-7018ac07b3bb"
      },
      "execution_count": null,
      "outputs": [
        {
          "output_type": "execute_result",
          "data": {
            "text/plain": [
              "set"
            ]
          },
          "metadata": {},
          "execution_count": 33
        }
      ]
    },
    {
      "cell_type": "code",
      "source": [
        "print(days)"
      ],
      "metadata": {
        "colab": {
          "base_uri": "https://localhost:8080/"
        },
        "id": "xyPSTKvubdo2",
        "outputId": "7eb409ac-0f2e-48e9-fb28-94f0034be1b0"
      },
      "execution_count": null,
      "outputs": [
        {
          "output_type": "stream",
          "name": "stdout",
          "text": [
            "{'Wed', 'Thu', 'Tue', 'Mon', 'Fri'}\n"
          ]
        }
      ]
    },
    {
      "cell_type": "code",
      "source": [
        "days = set(days)"
      ],
      "metadata": {
        "id": "YzShP1p1BupA"
      },
      "execution_count": null,
      "outputs": []
    },
    {
      "cell_type": "code",
      "source": [
        "days"
      ],
      "metadata": {
        "colab": {
          "base_uri": "https://localhost:8080/"
        },
        "id": "FXtU9Qx7Buek",
        "outputId": "84685d82-c0ff-4851-8d18-84ed76da6aad"
      },
      "execution_count": null,
      "outputs": [
        {
          "output_type": "execute_result",
          "data": {
            "text/plain": [
              "{'Fri', 'Mon', 'Thu', 'Tue', 'Wed'}"
            ]
          },
          "metadata": {},
          "execution_count": 36
        }
      ]
    },
    {
      "cell_type": "code",
      "source": [
        "type(days)"
      ],
      "metadata": {
        "colab": {
          "base_uri": "https://localhost:8080/"
        },
        "id": "zvt5rDZkBuWi",
        "outputId": "05ccec3a-8ea7-4776-89bc-87aa8da94a20"
      },
      "execution_count": null,
      "outputs": [
        {
          "output_type": "execute_result",
          "data": {
            "text/plain": [
              "set"
            ]
          },
          "metadata": {},
          "execution_count": 37
        }
      ]
    },
    {
      "cell_type": "code",
      "source": [
        "dir(days)"
      ],
      "metadata": {
        "colab": {
          "base_uri": "https://localhost:8080/"
        },
        "id": "DFCEddUiB3oI",
        "outputId": "ee16fa8d-7dbb-40f4-a7e7-82f76dc08acc"
      },
      "execution_count": null,
      "outputs": [
        {
          "output_type": "execute_result",
          "data": {
            "text/plain": [
              "['__and__',\n",
              " '__class__',\n",
              " '__class_getitem__',\n",
              " '__contains__',\n",
              " '__delattr__',\n",
              " '__dir__',\n",
              " '__doc__',\n",
              " '__eq__',\n",
              " '__format__',\n",
              " '__ge__',\n",
              " '__getattribute__',\n",
              " '__gt__',\n",
              " '__hash__',\n",
              " '__iand__',\n",
              " '__init__',\n",
              " '__init_subclass__',\n",
              " '__ior__',\n",
              " '__isub__',\n",
              " '__iter__',\n",
              " '__ixor__',\n",
              " '__le__',\n",
              " '__len__',\n",
              " '__lt__',\n",
              " '__ne__',\n",
              " '__new__',\n",
              " '__or__',\n",
              " '__rand__',\n",
              " '__reduce__',\n",
              " '__reduce_ex__',\n",
              " '__repr__',\n",
              " '__ror__',\n",
              " '__rsub__',\n",
              " '__rxor__',\n",
              " '__setattr__',\n",
              " '__sizeof__',\n",
              " '__str__',\n",
              " '__sub__',\n",
              " '__subclasshook__',\n",
              " '__xor__',\n",
              " 'add',\n",
              " 'clear',\n",
              " 'copy',\n",
              " 'difference',\n",
              " 'difference_update',\n",
              " 'discard',\n",
              " 'intersection',\n",
              " 'intersection_update',\n",
              " 'isdisjoint',\n",
              " 'issubset',\n",
              " 'issuperset',\n",
              " 'pop',\n",
              " 'remove',\n",
              " 'symmetric_difference',\n",
              " 'symmetric_difference_update',\n",
              " 'union',\n",
              " 'update']"
            ]
          },
          "metadata": {},
          "execution_count": 38
        }
      ]
    },
    {
      "cell_type": "markdown",
      "source": [
        "#### Updating Sets"
      ],
      "metadata": {
        "id": "k2FrEHiYB7xA"
      }
    },
    {
      "cell_type": "code",
      "source": [
        "days = {\"Mon\", \"Tue\", \"Wed\"}\n",
        "days.add(\"Thu\")\n",
        "print(days)"
      ],
      "metadata": {
        "colab": {
          "base_uri": "https://localhost:8080/"
        },
        "id": "0gtb95T0CDS4",
        "outputId": "c271b8f1-4d31-4fb9-98f6-3436184b7225"
      },
      "execution_count": null,
      "outputs": [
        {
          "output_type": "stream",
          "name": "stdout",
          "text": [
            "{'Thu', 'Tue', 'Mon', 'Wed'}\n"
          ]
        }
      ]
    },
    {
      "cell_type": "code",
      "source": [
        "days.update(['Fri', 'Sat', 'Tue'])\n",
        "print(days)"
      ],
      "metadata": {
        "colab": {
          "base_uri": "https://localhost:8080/"
        },
        "id": "gkzVhuPACDPe",
        "outputId": "360da783-634d-4a29-a5ad-a9072e7efb02"
      },
      "execution_count": null,
      "outputs": [
        {
          "output_type": "stream",
          "name": "stdout",
          "text": [
            "{'Mon', 'Sat', 'Wed', 'Tue', 'Thu', 'Fri'}\n"
          ]
        }
      ]
    },
    {
      "cell_type": "code",
      "source": [
        "days.remove('Mon')\n",
        "print(days)"
      ],
      "metadata": {
        "colab": {
          "base_uri": "https://localhost:8080/"
        },
        "id": "WV1Y5mYOCDMx",
        "outputId": "18802062-37b1-4561-a5a0-92f8f88a0aa0"
      },
      "execution_count": null,
      "outputs": [
        {
          "output_type": "stream",
          "name": "stdout",
          "text": [
            "{'Sat', 'Wed', 'Tue', 'Thu', 'Fri'}\n"
          ]
        }
      ]
    },
    {
      "cell_type": "code",
      "source": [
        "days.pop()\n",
        "print(days)"
      ],
      "metadata": {
        "colab": {
          "base_uri": "https://localhost:8080/"
        },
        "id": "B1fPwhfMCDKP",
        "outputId": "cff90fab-615e-4403-e2ec-84ca4e94490a"
      },
      "execution_count": null,
      "outputs": [
        {
          "output_type": "stream",
          "name": "stdout",
          "text": [
            "{'Wed', 'Tue', 'Thu', 'Fri'}\n"
          ]
        }
      ]
    },
    {
      "cell_type": "code",
      "source": [
        "days.clear()\n",
        "print(days)"
      ],
      "metadata": {
        "colab": {
          "base_uri": "https://localhost:8080/"
        },
        "id": "A-9ABOdXCDHZ",
        "outputId": "5d0db740-c4e5-4fae-c186-c019a1fc1261"
      },
      "execution_count": null,
      "outputs": [
        {
          "output_type": "stream",
          "name": "stdout",
          "text": [
            "set()\n"
          ]
        }
      ]
    },
    {
      "cell_type": "code",
      "source": [
        "days"
      ],
      "metadata": {
        "colab": {
          "base_uri": "https://localhost:8080/"
        },
        "id": "wn5KFG8gCDEu",
        "outputId": "aa7f3c5c-b184-4b5c-b95b-4a697f72efe3"
      },
      "execution_count": null,
      "outputs": [
        {
          "output_type": "execute_result",
          "data": {
            "text/plain": [
              "set()"
            ]
          },
          "metadata": {},
          "execution_count": 44
        }
      ]
    },
    {
      "cell_type": "code",
      "source": [
        "# del days\n",
        "# print(days)"
      ],
      "metadata": {
        "id": "g_4v2hgiCDCX"
      },
      "execution_count": null,
      "outputs": []
    },
    {
      "cell_type": "markdown",
      "source": [
        "#### Dictionaries"
      ],
      "metadata": {
        "id": "dh_dBn1DbfJd"
      }
    },
    {
      "cell_type": "code",
      "source": [
        "my_cat = {'name': 'Fluffy', 'age': 2,'color': 'black'}  # Creating a dictionary representing information about a cat"
      ],
      "metadata": {
        "id": "a-ngyCxwgcIg"
      },
      "execution_count": null,
      "outputs": []
    },
    {
      "cell_type": "code",
      "source": [
        "type(my_cat)"
      ],
      "metadata": {
        "colab": {
          "base_uri": "https://localhost:8080/"
        },
        "id": "4wKPlut2Ccxw",
        "outputId": "baf94f8a-f407-4723-8ede-1f8ff1efc6c8"
      },
      "execution_count": null,
      "outputs": [
        {
          "output_type": "execute_result",
          "data": {
            "text/plain": [
              "dict"
            ]
          },
          "metadata": {},
          "execution_count": 47
        }
      ]
    },
    {
      "cell_type": "code",
      "source": [
        "dir(my_cat)"
      ],
      "metadata": {
        "colab": {
          "base_uri": "https://localhost:8080/"
        },
        "id": "fMNO_PkwgcFA",
        "outputId": "078ea0cd-7bcc-4305-a16e-5316da42da7a"
      },
      "execution_count": null,
      "outputs": [
        {
          "output_type": "execute_result",
          "data": {
            "text/plain": [
              "['__add__',\n",
              " '__class__',\n",
              " '__contains__',\n",
              " '__delattr__',\n",
              " '__dir__',\n",
              " '__doc__',\n",
              " '__eq__',\n",
              " '__format__',\n",
              " '__ge__',\n",
              " '__getattribute__',\n",
              " '__getitem__',\n",
              " '__getnewargs__',\n",
              " '__gt__',\n",
              " '__hash__',\n",
              " '__init__',\n",
              " '__init_subclass__',\n",
              " '__iter__',\n",
              " '__le__',\n",
              " '__len__',\n",
              " '__lt__',\n",
              " '__mod__',\n",
              " '__mul__',\n",
              " '__ne__',\n",
              " '__new__',\n",
              " '__reduce__',\n",
              " '__reduce_ex__',\n",
              " '__repr__',\n",
              " '__rmod__',\n",
              " '__rmul__',\n",
              " '__setattr__',\n",
              " '__sizeof__',\n",
              " '__str__',\n",
              " '__subclasshook__',\n",
              " 'capitalize',\n",
              " 'casefold',\n",
              " 'center',\n",
              " 'count',\n",
              " 'encode',\n",
              " 'endswith',\n",
              " 'expandtabs',\n",
              " 'find',\n",
              " 'format',\n",
              " 'format_map',\n",
              " 'index',\n",
              " 'isalnum',\n",
              " 'isalpha',\n",
              " 'isascii',\n",
              " 'isdecimal',\n",
              " 'isdigit',\n",
              " 'isidentifier',\n",
              " 'islower',\n",
              " 'isnumeric',\n",
              " 'isprintable',\n",
              " 'isspace',\n",
              " 'istitle',\n",
              " 'isupper',\n",
              " 'join',\n",
              " 'ljust',\n",
              " 'lower',\n",
              " 'lstrip',\n",
              " 'maketrans',\n",
              " 'partition',\n",
              " 'removeprefix',\n",
              " 'removesuffix',\n",
              " 'replace',\n",
              " 'rfind',\n",
              " 'rindex',\n",
              " 'rjust',\n",
              " 'rpartition',\n",
              " 'rsplit',\n",
              " 'rstrip',\n",
              " 'split',\n",
              " 'splitlines',\n",
              " 'startswith',\n",
              " 'strip',\n",
              " 'swapcase',\n",
              " 'title',\n",
              " 'translate',\n",
              " 'upper',\n",
              " 'zfill']"
            ]
          },
          "metadata": {},
          "execution_count": 80
        }
      ]
    },
    {
      "cell_type": "code",
      "source": [
        "print(my_cat['name'])"
      ],
      "metadata": {
        "colab": {
          "base_uri": "https://localhost:8080/"
        },
        "id": "96mv0YmygcCj",
        "outputId": "0b324a43-875a-4b9a-e21e-577054963f63"
      },
      "execution_count": null,
      "outputs": [
        {
          "output_type": "stream",
          "name": "stdout",
          "text": [
            "Fluffy\n"
          ]
        }
      ]
    },
    {
      "cell_type": "code",
      "source": [
        "print(my_cat.get('age'))"
      ],
      "metadata": {
        "id": "jMDgeqOugb_T",
        "colab": {
          "base_uri": "https://localhost:8080/"
        },
        "outputId": "0a5c8093-7eb8-4f2e-f4eb-f61e9c506098"
      },
      "execution_count": null,
      "outputs": [
        {
          "output_type": "stream",
          "name": "stdout",
          "text": [
            "2\n"
          ]
        }
      ]
    },
    {
      "cell_type": "code",
      "source": [
        "print(my_cat.values())"
      ],
      "metadata": {
        "colab": {
          "base_uri": "https://localhost:8080/"
        },
        "id": "N1PmkoZOClKz",
        "outputId": "f4ebd4f1-b30a-4baa-a7d5-b921dc7383aa"
      },
      "execution_count": null,
      "outputs": [
        {
          "output_type": "stream",
          "name": "stdout",
          "text": [
            "dict_values(['Fluffy', 2, 'black'])\n"
          ]
        }
      ]
    },
    {
      "cell_type": "code",
      "source": [
        "print(my_cat.keys())"
      ],
      "metadata": {
        "colab": {
          "base_uri": "https://localhost:8080/"
        },
        "id": "Rlv1smcGClHZ",
        "outputId": "ed1a38a4-ca48-45b5-b9dc-eb919f20956c"
      },
      "execution_count": null,
      "outputs": [
        {
          "output_type": "stream",
          "name": "stdout",
          "text": [
            "dict_keys(['name', 'age', 'color'])\n"
          ]
        }
      ]
    },
    {
      "cell_type": "code",
      "source": [
        "my_cat"
      ],
      "metadata": {
        "colab": {
          "base_uri": "https://localhost:8080/"
        },
        "id": "SdpkEJzVClFB",
        "outputId": "e9112f96-d24e-4d17-9303-7c3764694ca8"
      },
      "execution_count": null,
      "outputs": [
        {
          "output_type": "execute_result",
          "data": {
            "text/plain": [
              "{'name': 'Fluffy', 'age': 2, 'color': 'black'}"
            ]
          },
          "metadata": {},
          "execution_count": 52
        }
      ]
    },
    {
      "cell_type": "code",
      "source": [
        "print(my_cat.items())"
      ],
      "metadata": {
        "colab": {
          "base_uri": "https://localhost:8080/"
        },
        "id": "Wj5LoQOJClCd",
        "outputId": "c00fa0af-ca5b-4815-8e0b-21e3558c50a7"
      },
      "execution_count": null,
      "outputs": [
        {
          "output_type": "stream",
          "name": "stdout",
          "text": [
            "dict_items([('name', 'Fluffy'), ('age', 2), ('color', 'black')])\n"
          ]
        }
      ]
    },
    {
      "cell_type": "code",
      "source": [
        "print('name' in my_cat)"
      ],
      "metadata": {
        "colab": {
          "base_uri": "https://localhost:8080/"
        },
        "id": "-INEP4H8Ck_q",
        "outputId": "451fa4d3-a498-459c-b98f-408089004134"
      },
      "execution_count": null,
      "outputs": [
        {
          "output_type": "stream",
          "name": "stdout",
          "text": [
            "True\n"
          ]
        }
      ]
    },
    {
      "cell_type": "code",
      "source": [
        "print('fluffyness' in my_cat)"
      ],
      "metadata": {
        "colab": {
          "base_uri": "https://localhost:8080/"
        },
        "id": "Uco0D6F8Ck8_",
        "outputId": "2d53ec6e-8050-41d7-b33f-a70ed9aceb68"
      },
      "execution_count": null,
      "outputs": [
        {
          "output_type": "stream",
          "name": "stdout",
          "text": [
            "False\n"
          ]
        }
      ]
    },
    {
      "cell_type": "code",
      "source": [],
      "metadata": {
        "id": "5CofwkNWCkzU"
      },
      "execution_count": null,
      "outputs": []
    },
    {
      "cell_type": "markdown",
      "source": [
        "#### Updating Dictionaries functions"
      ],
      "metadata": {
        "id": "z1JCcrjWhkpN"
      }
    },
    {
      "cell_type": "code",
      "source": [
        "print(my_cat) # Creating a dictionary representing a cat\n",
        "my_cat['gender'] = 'male'# Printing the initial state of my_cat\n",
        "print(my_cat)"
      ],
      "metadata": {
        "colab": {
          "base_uri": "https://localhost:8080/"
        },
        "id": "vDMFWScdhkdw",
        "outputId": "30584f9f-8f2e-47b7-edeb-d46338555f5d"
      },
      "execution_count": null,
      "outputs": [
        {
          "output_type": "stream",
          "name": "stdout",
          "text": [
            "{'name': 'Fluffy', 'age': 2, 'color': 'black', 'gender': 'male'}\n",
            "{'name': 'Fluffy', 'age': 2, 'color': 'black', 'gender': 'male'}\n"
          ]
        }
      ]
    },
    {
      "cell_type": "code",
      "source": [
        "my_cat"
      ],
      "metadata": {
        "colab": {
          "base_uri": "https://localhost:8080/"
        },
        "id": "r2f221DGDkAH",
        "outputId": "cf19fe1b-d781-40bc-b889-1a8ff3db7717"
      },
      "execution_count": null,
      "outputs": [
        {
          "output_type": "execute_result",
          "data": {
            "text/plain": [
              "{'name': 'Fluffy', 'age': 2, 'color': 'black', 'gender': 'male'}"
            ]
          },
          "metadata": {},
          "execution_count": 58
        }
      ]
    },
    {
      "cell_type": "code",
      "source": [
        "my_cat.pop('color')\n",
        "print(my_cat)"
      ],
      "metadata": {
        "colab": {
          "base_uri": "https://localhost:8080/"
        },
        "id": "zy8gFZFEDj8u",
        "outputId": "3f33d8bc-2139-4a42-a502-ac33584c3366"
      },
      "execution_count": null,
      "outputs": [
        {
          "output_type": "stream",
          "name": "stdout",
          "text": [
            "{'name': 'Fluffy', 'age': 2, 'gender': 'male'}\n"
          ]
        }
      ]
    },
    {
      "cell_type": "code",
      "source": [
        "my_cat.popitem()\n",
        "print(my_cat)"
      ],
      "metadata": {
        "colab": {
          "base_uri": "https://localhost:8080/"
        },
        "id": "pgE5RwSWDj6L",
        "outputId": "2d65ca1a-0954-4f7d-a1aa-75e7998d6d68"
      },
      "execution_count": null,
      "outputs": [
        {
          "output_type": "stream",
          "name": "stdout",
          "text": [
            "{'name': 'Fluffy', 'age': 2}\n"
          ]
        }
      ]
    },
    {
      "cell_type": "code",
      "source": [
        "# my_cat.clear()\n",
        "# print(my_cat)"
      ],
      "metadata": {
        "id": "3rT5VgUhDj22"
      },
      "execution_count": null,
      "outputs": []
    },
    {
      "cell_type": "code",
      "source": [
        "# del my_cat['age']\n",
        "# print(my_cat)"
      ],
      "metadata": {
        "id": "VP2alLLWDj0J"
      },
      "execution_count": null,
      "outputs": []
    },
    {
      "cell_type": "code",
      "source": [
        "my_cat['name'] = 'Fluffer'\n",
        "print(my_cat)"
      ],
      "metadata": {
        "colab": {
          "base_uri": "https://localhost:8080/"
        },
        "id": "DN5URAzkDjuw",
        "outputId": "a0f2cc21-5944-4728-a137-c8127715a97e"
      },
      "execution_count": null,
      "outputs": [
        {
          "output_type": "stream",
          "name": "stdout",
          "text": [
            "{'name': 'Fluffer', 'age': 2}\n"
          ]
        }
      ]
    },
    {
      "cell_type": "markdown",
      "source": [
        "#### Nesting Dictionaries"
      ],
      "metadata": {
        "id": "ZthrwPMihkTA"
      }
    },
    {
      "cell_type": "code",
      "source": [
        "family = {\n",
        "    \"child1\": {\n",
        "        'name': 'Alex',\n",
        "        'year': 2004\n",
        "    },\n",
        "\n",
        "    'child2': {\n",
        "        'name': 'Monica',\n",
        "        'year': 2007\n",
        "    }\n",
        "}"
      ],
      "metadata": {
        "id": "RE40_WAui04y"
      },
      "execution_count": null,
      "outputs": []
    },
    {
      "cell_type": "code",
      "source": [
        "family"
      ],
      "metadata": {
        "id": "XpXsTgtLi01V",
        "colab": {
          "base_uri": "https://localhost:8080/"
        },
        "outputId": "a902b241-bfb3-4add-9bea-9dc38b1b5e31"
      },
      "execution_count": null,
      "outputs": [
        {
          "output_type": "execute_result",
          "data": {
            "text/plain": [
              "{'child1': {'name': 'Alex', 'year': 2004},\n",
              " 'child2': {'name': 'Monica', 'year': 2007}}"
            ]
          },
          "metadata": {},
          "execution_count": 65
        }
      ]
    }
  ]
}