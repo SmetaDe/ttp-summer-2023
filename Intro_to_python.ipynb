{
  "nbformat": 4,
  "nbformat_minor": 0,
  "metadata": {
    "colab": {
      "provenance": [],
      "authorship_tag": "ABX9TyOS0NPIGqZaUUd6zAMkao6j",
      "include_colab_link": true
    },
    "kernelspec": {
      "name": "python3",
      "display_name": "Python 3"
    },
    "language_info": {
      "name": "python"
    }
  },
  "cells": [
    {
      "cell_type": "markdown",
      "metadata": {
        "id": "view-in-github",
        "colab_type": "text"
      },
      "source": [
        "<a href=\"https://colab.research.google.com/github/SmetaDe/ttp-summer-2023/blob/main/Intro_to_python.ipynb\" target=\"_parent\"><img src=\"https://colab.research.google.com/assets/colab-badge.svg\" alt=\"Open In Colab\"/></a>"
      ]
    },
    {
      "cell_type": "markdown",
      "source": [
        "# Python Basics"
      ],
      "metadata": {
        "id": "IIRimsKNHJGk"
      }
    },
    {
      "cell_type": "markdown",
      "source": [
        "## String & the print() function"
      ],
      "metadata": {
        "id": "rEIodpWMIQXR"
      }
    },
    {
      "cell_type": "code",
      "source": [
        "print('Hi there')\n",
        "# In this line I am using the print() method to print \"hi there\" to the user!"
      ],
      "metadata": {
        "colab": {
          "base_uri": "https://localhost:8080/"
        },
        "id": "VSf-m9bVIgh6",
        "outputId": "a0dacfa5-ace3-4320-bfae-ad88d5feee92"
      },
      "execution_count": 1,
      "outputs": [
        {
          "output_type": "stream",
          "name": "stdout",
          "text": [
            "Hi there\n"
          ]
        }
      ]
    },
    {
      "cell_type": "code",
      "source": [
        "print (\"There are two types of slashes: \\\\ and /\")\n",
        "# The code is a Python program that prints a sentence explaining the existence of two types of slashes: backslash () and forward slash (/). It uses a backslash as an escape character to display a literal backslash in the output."
      ],
      "metadata": {
        "colab": {
          "base_uri": "https://localhost:8080/"
        },
        "id": "qm0eeVJkIPow",
        "outputId": "72638b2d-e5bd-4744-b07b-7b339fffc8d6"
      },
      "execution_count": null,
      "outputs": [
        {
          "output_type": "stream",
          "name": "stdout",
          "text": [
            "There are two types of slashes: \\ and /\n"
          ]
        }
      ]
    },
    {
      "cell_type": "code",
      "source": [
        "print (\"\"\"\n",
        "      This is a tabbed line\n",
        "This is a regular line\n",
        "\"\"\")\n",
        "# In this line two lines of code is printed. The first line is indented with a tab character, while the second line is not indented. And the triple quotation marks are used for multiple strings."
      ],
      "metadata": {
        "colab": {
          "base_uri": "https://localhost:8080/"
        },
        "id": "4fyXfB36IPZn",
        "outputId": "a83fef78-8108-4de6-bfca-829af8ec4f53"
      },
      "execution_count": null,
      "outputs": [
        {
          "output_type": "stream",
          "name": "stdout",
          "text": [
            "\n",
            "      This is a tabbed line\n",
            "This is a regular line\n",
            "\n"
          ]
        }
      ]
    },
    {
      "cell_type": "code",
      "source": [
        "print(\"\\n\\tThis is a tabbed line\\nThis is a regular line\")\n",
        "#The first line is indented with a tab character, and the second line is not indented. The \"\\n\" represents a new line, and \"\\t\" represents a tab character."
      ],
      "metadata": {
        "colab": {
          "base_uri": "https://localhost:8080/"
        },
        "id": "kFa9PJHiIPMC",
        "outputId": "00642c6a-c332-4e24-b67a-a274d621f189"
      },
      "execution_count": null,
      "outputs": [
        {
          "output_type": "stream",
          "name": "stdout",
          "text": [
            "\n",
            "\tThis is a tabbed line\n",
            "This is a regular line\n"
          ]
        }
      ]
    },
    {
      "cell_type": "code",
      "source": [
        "print(\"first name\" + ' last name')\n",
        "#The code is combining two strings, \"first name\" and 'last name', and then printing the result to the console. Both single ( '') and double (\" \") quotation marks can be used to define strings."
      ],
      "metadata": {
        "colab": {
          "base_uri": "https://localhost:8080/"
        },
        "id": "5gTFoGIWIPIk",
        "outputId": "be62e784-20fa-4b0a-a910-01b6cd32b04e"
      },
      "execution_count": null,
      "outputs": [
        {
          "output_type": "stream",
          "name": "stdout",
          "text": [
            "first name last name\n"
          ]
        }
      ]
    },
    {
      "cell_type": "markdown",
      "source": [
        "## Variables"
      ],
      "metadata": {
        "id": "lz-LyoZ3IO9f"
      }
    },
    {
      "cell_type": "code",
      "source": [
        "dogs = 3\n",
        "cats = \"Many fluffy cats\"\n",
        "#There are two variables: cats and dogs. Dogs are assigned the value 3. And cats are assigned the string “Many fluffy cats”."
      ],
      "metadata": {
        "id": "YpYvp83WIOz6"
      },
      "execution_count": 2,
      "outputs": []
    },
    {
      "cell_type": "code",
      "source": [
        "dogs\n",
        "#Since dogs are assigned the value 3. It will print 3."
      ],
      "metadata": {
        "colab": {
          "base_uri": "https://localhost:8080/"
        },
        "id": "FHz3GqCNIOwU",
        "outputId": "e7d19d15-4997-451e-b7d3-11a30c72012c"
      },
      "execution_count": null,
      "outputs": [
        {
          "output_type": "execute_result",
          "data": {
            "text/plain": [
              "3"
            ]
          },
          "metadata": {},
          "execution_count": 7
        }
      ]
    },
    {
      "cell_type": "code",
      "source": [
        "cats\n",
        "#Since cats are assigned the string “Many fluffy cats”. It will print Many fluffy cats."
      ],
      "metadata": {
        "colab": {
          "base_uri": "https://localhost:8080/",
          "height": 35
        },
        "id": "5hNRPn-LIOnI",
        "outputId": "a67dc2d2-f11c-4f17-889a-8f2e28b09cd6"
      },
      "execution_count": null,
      "outputs": [
        {
          "output_type": "execute_result",
          "data": {
            "text/plain": [
              "'Many fluffy cats'"
            ],
            "application/vnd.google.colaboratory.intrinsic+json": {
              "type": "string"
            }
          },
          "metadata": {},
          "execution_count": 8
        }
      ]
    },
    {
      "cell_type": "code",
      "source": [
        "type(dogs)\n",
        "#Dogs are type int because 3 is an integer."
      ],
      "metadata": {
        "colab": {
          "base_uri": "https://localhost:8080/"
        },
        "id": "_MzwtgDzIOjy",
        "outputId": "07590779-31a9-49bb-da61-c988bf00c1ed"
      },
      "execution_count": null,
      "outputs": [
        {
          "output_type": "execute_result",
          "data": {
            "text/plain": [
              "int"
            ]
          },
          "metadata": {},
          "execution_count": 9
        }
      ]
    },
    {
      "cell_type": "code",
      "source": [
        "type(cats)\n",
        "#Cats are type str because “Many fluffy cats” is a string."
      ],
      "metadata": {
        "colab": {
          "base_uri": "https://localhost:8080/"
        },
        "id": "AdE_qWccIOhA",
        "outputId": "3950962c-6376-4d66-b18a-1a6e859df758"
      },
      "execution_count": null,
      "outputs": [
        {
          "output_type": "execute_result",
          "data": {
            "text/plain": [
              "str"
            ]
          },
          "metadata": {},
          "execution_count": 10
        }
      ]
    },
    {
      "cell_type": "code",
      "source": [
        "print(dogs)\n",
        "#Since dogs are assigned a value at the beginning. It will print the value of dogs."
      ],
      "metadata": {
        "colab": {
          "base_uri": "https://localhost:8080/"
        },
        "id": "MVe3lgk4IOeG",
        "outputId": "352652a8-08d4-4488-f4c5-5f01ef5e9ab6"
      },
      "execution_count": null,
      "outputs": [
        {
          "output_type": "stream",
          "name": "stdout",
          "text": [
            "3\n"
          ]
        }
      ]
    },
    {
      "cell_type": "code",
      "source": [
        "hi = \"Hello \"\n",
        "name = \" John\"\n",
        "print(hi + name)\n",
        "# hi is assigned the string “Hello”. And name is assigned the string “John”. The ‘+’  operator is used to combine the two strings together, resulting in the output \"Hello John\"."
      ],
      "metadata": {
        "colab": {
          "base_uri": "https://localhost:8080/"
        },
        "id": "qTCEJUafIObb",
        "outputId": "2cf6c040-184d-4d9b-d971-d679773862b1"
      },
      "execution_count": null,
      "outputs": [
        {
          "output_type": "stream",
          "name": "stdout",
          "text": [
            "Hello  John\n"
          ]
        }
      ]
    },
    {
      "cell_type": "code",
      "source": [
        "more_dogs = 5\n",
        "\n",
        "print(dogs + more_dogs)\n",
        "# In the previous code we assigned dogs the value 3 and since the value for more_dogs is 5. 3+5 is equal to 8."
      ],
      "metadata": {
        "colab": {
          "base_uri": "https://localhost:8080/"
        },
        "id": "uHlbpGieIOYo",
        "outputId": "c93320ed-fe62-4fb3-9557-17af2cbab5d6"
      },
      "execution_count": null,
      "outputs": [
        {
          "output_type": "stream",
          "name": "stdout",
          "text": [
            "8\n"
          ]
        }
      ]
    },
    {
      "cell_type": "code",
      "source": [
        "price = 19.99\n",
        "amount = 3"
      ],
      "metadata": {
        "id": "94gMcQELIOWC"
      },
      "execution_count": null,
      "outputs": []
    },
    {
      "cell_type": "code",
      "source": [
        "print(price * amount)\n",
        "# The code is multiplying the values of the variables price and amount together and then printing the result"
      ],
      "metadata": {
        "colab": {
          "base_uri": "https://localhost:8080/"
        },
        "id": "myFaxfcEIOTO",
        "outputId": "f1b0d319-9d00-414d-fdb9-d7bd3b750edf"
      },
      "execution_count": null,
      "outputs": [
        {
          "output_type": "stream",
          "name": "stdout",
          "text": [
            "59.97\n"
          ]
        }
      ]
    },
    {
      "cell_type": "code",
      "source": [
        "# Variable re_assignment\n",
        "dogs = \"New value\"\n",
        "\n",
        "print(dogs)\n",
        "# Dogs are assigned a new string \"New value\" So now it will print the new variable."
      ],
      "metadata": {
        "colab": {
          "base_uri": "https://localhost:8080/"
        },
        "id": "LAcvVumaIOQh",
        "outputId": "582d9519-a68f-4c36-d45f-10d17271576e"
      },
      "execution_count": null,
      "outputs": [
        {
          "output_type": "stream",
          "name": "stdout",
          "text": [
            "New value\n"
          ]
        }
      ]
    },
    {
      "cell_type": "code",
      "source": [
        "cats, dogs, rabbits = 2, 5, \"cute\"\n",
        "\n",
        "print(dogs)\n",
        "# The line cats, dogs, rabbits = 2, 5, \"cute\" is using multiple assignments to assign the values. So, after this line, cats will have the value 2, dogs will have the value 5, and rabbits will have the value \"cute\". So print(dogs) will output the value of the dogs variable, which is 5."
      ],
      "metadata": {
        "colab": {
          "base_uri": "https://localhost:8080/"
        },
        "id": "RUj-bBzvIONx",
        "outputId": "185ee21b-69ab-4a42-9b35-c9677f14e015"
      },
      "execution_count": null,
      "outputs": [
        {
          "output_type": "stream",
          "name": "stdout",
          "text": [
            "5\n"
          ]
        }
      ]
    },
    {
      "cell_type": "markdown",
      "source": [],
      "metadata": {
        "id": "T7DluBYlNMic"
      }
    },
    {
      "cell_type": "markdown",
      "source": [
        "# More String"
      ],
      "metadata": {
        "id": "_md3M4cfIOIL"
      }
    },
    {
      "cell_type": "markdown",
      "source": [
        "#Indexing"
      ],
      "metadata": {
        "id": "qgwahMoZIOEq"
      }
    },
    {
      "cell_type": "code",
      "source": [
        "greeting = 'hello world!'"
      ],
      "metadata": {
        "id": "PTmrG3i-IOBU"
      },
      "execution_count": 3,
      "outputs": []
    },
    {
      "cell_type": "code",
      "source": [
        "greeting\n",
        "# greeting is assigned the string ‘hello world!’. Therefore greeting itself is printing hello world!."
      ],
      "metadata": {
        "colab": {
          "base_uri": "https://localhost:8080/",
          "height": 35
        },
        "id": "2bRqWYv6IN-H",
        "outputId": "466ac72b-0eb7-43db-89c2-45249b58e442"
      },
      "execution_count": 4,
      "outputs": [
        {
          "output_type": "execute_result",
          "data": {
            "text/plain": [
              "'hello world!'"
            ],
            "application/vnd.google.colaboratory.intrinsic+json": {
              "type": "string"
            }
          },
          "metadata": {},
          "execution_count": 4
        }
      ]
    },
    {
      "cell_type": "code",
      "source": [
        "print(greeting[4])\n",
        "# it prints the character at index 4 of the greeting string. String indices start from 0, so greeting[4] refers to the fifth character of the string"
      ],
      "metadata": {
        "colab": {
          "base_uri": "https://localhost:8080/"
        },
        "id": "f4FB-cblIN7W",
        "outputId": "7eae477c-be50-4cb2-d3f9-613b4105b278"
      },
      "execution_count": 5,
      "outputs": [
        {
          "output_type": "stream",
          "name": "stdout",
          "text": [
            "o\n"
          ]
        }
      ]
    },
    {
      "cell_type": "code",
      "source": [
        "# The 3rd, the 5th, and/or the 19th"
      ],
      "metadata": {
        "id": "6JeAFmwoN0eC"
      },
      "execution_count": 6,
      "outputs": []
    },
    {
      "cell_type": "code",
      "source": [
        "greeting= 'How are you'\n",
        "# greeting is assigned new sting \"How are you\"\n"
      ],
      "metadata": {
        "id": "_nvirAbtOjhQ"
      },
      "execution_count": 12,
      "outputs": []
    },
    {
      "cell_type": "code",
      "source": [
        "greeting\n",
        "# It's printing the new variable"
      ],
      "metadata": {
        "colab": {
          "base_uri": "https://localhost:8080/",
          "height": 35
        },
        "id": "BnehFoyyesS-",
        "outputId": "00ace04e-f44b-432d-dbd1-0b7437879bd4"
      },
      "execution_count": 13,
      "outputs": [
        {
          "output_type": "execute_result",
          "data": {
            "text/plain": [
              "'How are you'"
            ],
            "application/vnd.google.colaboratory.intrinsic+json": {
              "type": "string"
            }
          },
          "metadata": {},
          "execution_count": 13
        }
      ]
    },
    {
      "cell_type": "code",
      "source": [
        "print(greeting[3])\n",
        "# prints the character at index 3"
      ],
      "metadata": {
        "colab": {
          "base_uri": "https://localhost:8080/"
        },
        "id": "SGL03u81esMM",
        "outputId": "c662279e-8b25-40ca-9563-e00c3daea5a6"
      },
      "execution_count": 15,
      "outputs": [
        {
          "output_type": "stream",
          "name": "stdout",
          "text": [
            " \n"
          ]
        }
      ]
    },
    {
      "cell_type": "code",
      "source": [
        "print(greeting[5])\n",
        "# prints the character at index 5"
      ],
      "metadata": {
        "colab": {
          "base_uri": "https://localhost:8080/"
        },
        "id": "TZtt9rDnesGP",
        "outputId": "0c466201-78f7-478e-8367-f2fa0dcde314"
      },
      "execution_count": 16,
      "outputs": [
        {
          "output_type": "stream",
          "name": "stdout",
          "text": [
            "r\n"
          ]
        }
      ]
    },
    {
      "cell_type": "code",
      "source": [
        "print(greeting[19])\n",
        "# There is no charater at index 19 so it's showing error"
      ],
      "metadata": {
        "colab": {
          "base_uri": "https://localhost:8080/",
          "height": 165
        },
        "id": "9d4m781re_EN",
        "outputId": "d5fa5cb9-01b1-47e9-f1f1-e9adedf2b0b9"
      },
      "execution_count": 17,
      "outputs": [
        {
          "output_type": "error",
          "ename": "IndexError",
          "evalue": "ignored",
          "traceback": [
            "\u001b[0;31m---------------------------------------------------------------------------\u001b[0m",
            "\u001b[0;31mIndexError\u001b[0m                                Traceback (most recent call last)",
            "\u001b[0;32m<ipython-input-17-10016d07fc24>\u001b[0m in \u001b[0;36m<cell line: 1>\u001b[0;34m()\u001b[0m\n\u001b[0;32m----> 1\u001b[0;31m \u001b[0mprint\u001b[0m\u001b[0;34m(\u001b[0m\u001b[0mgreeting\u001b[0m\u001b[0;34m[\u001b[0m\u001b[0;36m19\u001b[0m\u001b[0;34m]\u001b[0m\u001b[0;34m)\u001b[0m\u001b[0;34m\u001b[0m\u001b[0;34m\u001b[0m\u001b[0m\n\u001b[0m",
            "\u001b[0;31mIndexError\u001b[0m: string index out of range"
          ]
        }
      ]
    },
    {
      "cell_type": "code",
      "source": [
        "greeting[11]"
      ],
      "metadata": {
        "id": "RyROQ4zlPCdz"
      },
      "execution_count": null,
      "outputs": []
    },
    {
      "cell_type": "code",
      "source": [
        "greeting"
      ],
      "metadata": {
        "id": "2OTuKPCGPQ-i"
      },
      "execution_count": null,
      "outputs": []
    },
    {
      "cell_type": "code",
      "source": [
        "greeting[11]"
      ],
      "metadata": {
        "id": "p3wzXBJVPV0t"
      },
      "execution_count": null,
      "outputs": []
    },
    {
      "cell_type": "markdown",
      "source": [
        "#String Formatting"
      ],
      "metadata": {
        "id": "aU_wABJSPYBU"
      }
    },
    {
      "cell_type": "code",
      "source": [
        "price = 55.99"
      ],
      "metadata": {
        "id": "dc4qdEU7PtWB"
      },
      "execution_count": null,
      "outputs": []
    },
    {
      "cell_type": "code",
      "source": [
        "message = \"The product costs \" + str(price) + \" dollars\""
      ],
      "metadata": {
        "id": "Y8BG-rgCPtSq"
      },
      "execution_count": null,
      "outputs": []
    },
    {
      "cell_type": "code",
      "source": [
        "message\n",
        "# The code creates a variable named price with a value of 55.99, and a variable named message. The message variable contains a string that states \"The product costs\" followed by the value of price converted to a string, and finally \"dollars\". The resulting value of message is \"The product costs 55.99 dollars\"."
      ],
      "metadata": {
        "colab": {
          "base_uri": "https://localhost:8080/",
          "height": 35
        },
        "id": "4qqX0ZVAPtP6",
        "outputId": "5b3015df-8bac-4621-d36d-ce1b0b6d6117"
      },
      "execution_count": null,
      "outputs": [
        {
          "output_type": "execute_result",
          "data": {
            "text/plain": [
              "'The product costs 55.99 dollars'"
            ],
            "application/vnd.google.colaboratory.intrinsic+json": {
              "type": "string"
            }
          },
          "metadata": {},
          "execution_count": 32
        }
      ]
    },
    {
      "cell_type": "markdown",
      "source": [
        "#The .format() method!"
      ],
      "metadata": {
        "id": "EfJLbcTSQ5j3"
      }
    },
    {
      "cell_type": "code",
      "source": [
        "msg = \"the product cost {} dollars\".format(price)"
      ],
      "metadata": {
        "id": "3ygsT0wAPtNS"
      },
      "execution_count": null,
      "outputs": []
    },
    {
      "cell_type": "code",
      "source": [
        "msg\n",
        "#The code assigns a string to the variable msg. It uses the format() method to insert the value of the variable price into the string. The format(price) portion replaces the placeholder {}  with the string representation of the price variable."
      ],
      "metadata": {
        "colab": {
          "base_uri": "https://localhost:8080/",
          "height": 35
        },
        "id": "WZw-i-OkPtKq",
        "outputId": "9f6e66d8-c41c-4bea-b4ac-0c00d163e5e3"
      },
      "execution_count": null,
      "outputs": [
        {
          "output_type": "execute_result",
          "data": {
            "text/plain": [
              "'the product cost 55.99 dollars'"
            ],
            "application/vnd.google.colaboratory.intrinsic+json": {
              "type": "string"
            }
          },
          "metadata": {},
          "execution_count": 34
        }
      ]
    },
    {
      "cell_type": "code",
      "source": [
        "amount = 3\n",
        "price = 55.99\n",
        "# The variable amount is set to 3, and the variable price is set to 55.99\n",
        "total = amount * price\n",
        "# The variable total is calculated by multiplying amount and price"
      ],
      "metadata": {
        "id": "DLbkBsnmPtIZ"
      },
      "execution_count": 20,
      "outputs": []
    },
    {
      "cell_type": "code",
      "source": [
        "msg2 = 'For {} products at the price of {}, the total will be: {}'\n",
        "# The string msg2 is defined with placeholders to represent the values that will be inserted later."
      ],
      "metadata": {
        "id": "86sniUzMPtGE"
      },
      "execution_count": 21,
      "outputs": []
    },
    {
      "cell_type": "code",
      "source": [
        "print(msg2.format(amount, price, total))\n",
        "# The format() method is used to insert the values of amount, price, and total into msg2, and the resulting string is printed. The string msg3 is defined with numbered placeholders. The format() method is used to insert the values of price, total, and amount into msg3, and the resulting string is printed."
      ],
      "metadata": {
        "colab": {
          "base_uri": "https://localhost:8080/"
        },
        "id": "ksCcZRwNPtDw",
        "outputId": "4f80a215-b3d7-41bf-b351-e979dc7e9075"
      },
      "execution_count": 22,
      "outputs": [
        {
          "output_type": "stream",
          "name": "stdout",
          "text": [
            "For 3 products at the price of 55.99, the total will be: 167.97\n"
          ]
        }
      ]
    },
    {
      "cell_type": "code",
      "source": [
        "msg3 = \"For {2} products at a price of {0}, the total is {1}\""
      ],
      "metadata": {
        "id": "IakIHJq-PtBO"
      },
      "execution_count": null,
      "outputs": []
    },
    {
      "cell_type": "code",
      "source": [
        "print(msg3.format(price, total, amount))\n",
        "#The line msg3 = \"For {2} products at a price of {0}, the total is {1}\" defines a string variable msg3 with placeholders for values at specific positions. The placeholders {0}, {1}, and {2} will be replaced with the values of price, total, and amount respectively when using the format() method."
      ],
      "metadata": {
        "colab": {
          "base_uri": "https://localhost:8080/"
        },
        "id": "Eqp8fqt-Ps-x",
        "outputId": "e1fb1312-5b9c-4b40-9825-6234a89c0403"
      },
      "execution_count": null,
      "outputs": [
        {
          "output_type": "stream",
          "name": "stdout",
          "text": [
            "For 3 products at a price of 55.99, the total is 167.97\n"
          ]
        }
      ]
    },
    {
      "cell_type": "markdown",
      "source": [
        "#### The 'f-string Method!"
      ],
      "metadata": {
        "id": "oB_bguqcPs8g"
      }
    },
    {
      "cell_type": "code",
      "source": [
        "price = 19.99\n",
        "items = 3\n",
        "# sets the price variable to 19.99 and the items variable to 3."
      ],
      "metadata": {
        "id": "CpyXr7epPs0m"
      },
      "execution_count": null,
      "outputs": []
    },
    {
      "cell_type": "code",
      "source": [
        "msg = f'This individual product is {price}'"
      ],
      "metadata": {
        "id": "8UE3UdqVPst7"
      },
      "execution_count": null,
      "outputs": []
    },
    {
      "cell_type": "code",
      "source": [
        "msg\n",
        "# it creates a string msg using an f-string, where the expression {price} is replaced with the value of the price variable. The resulting value of msg is \"This individual product is 19.99\"."
      ],
      "metadata": {
        "colab": {
          "base_uri": "https://localhost:8080/",
          "height": 35
        },
        "id": "nzxgDrkGTAFY",
        "outputId": "1902aed3-2a8a-48db-d541-edc1d93b442e"
      },
      "execution_count": null,
      "outputs": [
        {
          "output_type": "execute_result",
          "data": {
            "text/plain": [
              "'This individual product is 19.99'"
            ],
            "application/vnd.google.colaboratory.intrinsic+json": {
              "type": "string"
            }
          },
          "metadata": {},
          "execution_count": 46
        }
      ]
    },
    {
      "cell_type": "code",
      "source": [
        "msg2 = f'The total for your purchase is {price * items}'"
      ],
      "metadata": {
        "id": "sL3F3_xlTA1c"
      },
      "execution_count": null,
      "outputs": []
    },
    {
      "cell_type": "code",
      "source": [
        "msg2\n",
        "# The expression {price * items} within the f-string calculates the total purchase price by multiplying the price and items variables."
      ],
      "metadata": {
        "colab": {
          "base_uri": "https://localhost:8080/",
          "height": 35
        },
        "id": "N2mdncFKTQKp",
        "outputId": "4a8a02b2-439d-47a2-bfa0-3df1165b6ab2"
      },
      "execution_count": null,
      "outputs": [
        {
          "output_type": "execute_result",
          "data": {
            "text/plain": [
              "'The total for your purchase is 59.97'"
            ],
            "application/vnd.google.colaboratory.intrinsic+json": {
              "type": "string"
            }
          },
          "metadata": {},
          "execution_count": 48
        }
      ]
    },
    {
      "cell_type": "code",
      "source": [],
      "metadata": {
        "id": "simiupTMTRKp"
      },
      "execution_count": null,
      "outputs": []
    }
  ]
}