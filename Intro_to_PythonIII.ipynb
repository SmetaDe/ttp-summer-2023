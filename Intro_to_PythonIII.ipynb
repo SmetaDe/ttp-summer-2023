{
  "nbformat": 4,
  "nbformat_minor": 0,
  "metadata": {
    "colab": {
      "provenance": [],
      "authorship_tag": "ABX9TyN3GWrDr3hjGmmyh6xWgsTP",
      "include_colab_link": true
    },
    "kernelspec": {
      "name": "python3",
      "display_name": "Python 3"
    },
    "language_info": {
      "name": "python"
    }
  },
  "cells": [
    {
      "cell_type": "markdown",
      "metadata": {
        "id": "view-in-github",
        "colab_type": "text"
      },
      "source": [
        "<a href=\"https://colab.research.google.com/github/SmetaDe/ttp-summer-2023/blob/main/Intro_to_PythonIII.ipynb\" target=\"_parent\"><img src=\"https://colab.research.google.com/assets/colab-badge.svg\" alt=\"Open In Colab\"/></a>"
      ]
    },
    {
      "cell_type": "markdown",
      "source": [
        "# Conditionals"
      ],
      "metadata": {
        "id": "iTs1kId0nyGJ"
      }
    },
    {
      "cell_type": "markdown",
      "source": [
        "## The 'if' Statement"
      ],
      "metadata": {
        "id": "ILp4QBwfn5Jr"
      }
    },
    {
      "cell_type": "code",
      "source": [
        "night = False\n"
      ],
      "metadata": {
        "id": "RH_EH0Ohn5GJ"
      },
      "execution_count": 1,
      "outputs": []
    },
    {
      "cell_type": "code",
      "source": [
        "type (night)"
      ],
      "metadata": {
        "colab": {
          "base_uri": "https://localhost:8080/"
        },
        "id": "iLWVZ-Mxn5Dq",
        "outputId": "a3f61da2-b30f-4498-fdfa-23bfb65c90e2"
      },
      "execution_count": 2,
      "outputs": [
        {
          "output_type": "execute_result",
          "data": {
            "text/plain": [
              "bool"
            ]
          },
          "metadata": {},
          "execution_count": 2
        }
      ]
    },
    {
      "cell_type": "code",
      "source": [
        "# if (something) -> them do something... if not-> then do something else"
      ],
      "metadata": {
        "id": "PHigDzjF3ri5"
      },
      "execution_count": 3,
      "outputs": []
    },
    {
      "cell_type": "code",
      "source": [
        "if night:\n",
        "  print(\"It's night. Sleeping\")\n",
        "else:\n",
        "    print(\"It's day. Being active.\")\n",
        "    print(\"out of the if statement\")"
      ],
      "metadata": {
        "colab": {
          "base_uri": "https://localhost:8080/"
        },
        "id": "ck1xGSEUn5BB",
        "outputId": "791a9e65-c288-4452-d361-a18d27e85fc6"
      },
      "execution_count": 4,
      "outputs": [
        {
          "output_type": "stream",
          "name": "stdout",
          "text": [
            "It's day. Being active.\n",
            "out of the if statement\n"
          ]
        }
      ]
    },
    {
      "cell_type": "code",
      "source": [
        "a, b, c = 100, 50, 20\n",
        "if a > b and b > c:\n",
        "  print (f\"{a} greater then{c}\")\n",
        "  # if the value of variable 'a' is greater than 'b' and 'b' is greater than 'c', the code will print \"100 greater than 20\"."
      ],
      "metadata": {
        "colab": {
          "base_uri": "https://localhost:8080/"
        },
        "id": "cXA28xfsn4-W",
        "outputId": "a70a1c02-2489-491e-94b4-9ae456a40543"
      },
      "execution_count": 5,
      "outputs": [
        {
          "output_type": "stream",
          "name": "stdout",
          "text": [
            "100 greater then20\n"
          ]
        }
      ]
    },
    {
      "cell_type": "code",
      "source": [
        "data = input(\"Do you have the keys?(yes/no)\")\n",
        "if data.lower()== \"yes\":\n",
        "  print(\"String the car\")\n",
        "else:\n",
        "  print(\"Car cannot start without the keys\")\n",
        "  # Using if or else statement to print yes/no"
      ],
      "metadata": {
        "colab": {
          "base_uri": "https://localhost:8080/"
        },
        "id": "d4JaX7wFn47w",
        "outputId": "004f73e7-6f9d-4c02-e04c-495f386a81a3"
      },
      "execution_count": 6,
      "outputs": [
        {
          "output_type": "stream",
          "name": "stdout",
          "text": [
            "Do you have the keys?(yes/no)\n",
            "Car cannot start without the keys\n"
          ]
        }
      ]
    },
    {
      "cell_type": "code",
      "source": [
        "data = input(\"Please enter the current hour (0-23): \")\n",
        "hour = int(data)\n",
        "if hour < 12:\n",
        "    print(f\"It's {hour} am\")\n",
        "else:\n",
        "    print(f\"It's {hour-12} pm\")\n",
        "    # Using int() and assigned to the variable hour"
      ],
      "metadata": {
        "id": "rsKn3B_rn44w",
        "colab": {
          "base_uri": "https://localhost:8080/"
        },
        "outputId": "c9f4d1e2-64a8-40cd-b038-f25a16e281ef"
      },
      "execution_count": 8,
      "outputs": [
        {
          "output_type": "stream",
          "name": "stdout",
          "text": [
            "Please enter the current hour (0-23): 4\n",
            "It's 4 am\n"
          ]
        }
      ]
    },
    {
      "cell_type": "markdown",
      "source": [
        "#### Nested if Statements"
      ],
      "metadata": {
        "id": "hXVnbn8bn4y5"
      }
    },
    {
      "cell_type": "code",
      "source": [
        "pet_store = ['cat', 'dog', 'rabbit']\n",
        "has_cat_food = True\n",
        "\n",
        "if 'cat' in pet_store:\n",
        "    print(\"Alright! they have a cat for me\")\n",
        "\n",
        "    if has_cat_food:\n",
        "        print('Buying cat and cat food')\n",
        "\n",
        "    else:\n",
        "        print('Buying the cat only')\n",
        "        # more code inside the else block\n",
        "    # more code\n",
        "\n",
        "else:\n",
        "    print('Ask pet store to get cat')\n"
      ],
      "metadata": {
        "colab": {
          "base_uri": "https://localhost:8080/"
        },
        "id": "0zQ5e9Npn4wL",
        "outputId": "4377177d-9ba7-4433-bf74-60de7bb00abf"
      },
      "execution_count": 10,
      "outputs": [
        {
          "output_type": "stream",
          "name": "stdout",
          "text": [
            "Alright! they have a cat for me\n",
            "Buying cat and cat food\n"
          ]
        }
      ]
    },
    {
      "cell_type": "markdown",
      "source": [
        "#### More on indentation!"
      ],
      "metadata": {
        "id": "FkThPVXCEvwV"
      }
    },
    {
      "cell_type": "code",
      "source": [
        "if True:\n",
        "    print(\"This is part of the if statement\")\n",
        "print(\"The if statement has finished\")\n",
        "    # print(\"Not allowed\")"
      ],
      "metadata": {
        "colab": {
          "base_uri": "https://localhost:8080/"
        },
        "id": "kcaFLU3EEvpD",
        "outputId": "8df9ff68-5b3e-402e-c14a-dd1751058417"
      },
      "execution_count": 11,
      "outputs": [
        {
          "output_type": "stream",
          "name": "stdout",
          "text": [
            "This is part of the if statement\n",
            "The if statement has finished\n"
          ]
        }
      ]
    },
    {
      "cell_type": "code",
      "source": [
        "if 5 > 3:\n",
        "    print(\"This is part of expression 1\")\n",
        "\n",
        "    if 10 > 5:\n",
        "        print(\"This is part of expression2\")\n",
        "\n",
        "    print(\"This is also part of expression 1\")\n",
        "\n",
        "print(\"This is not part of any if statement\")\n",
        "    # print(\"This is not allowed\")"
      ],
      "metadata": {
        "colab": {
          "base_uri": "https://localhost:8080/"
        },
        "id": "4xHEDo9jn4qg",
        "outputId": "09a20e7c-f393-44a1-b068-b19de72e82bd"
      },
      "execution_count": 13,
      "outputs": [
        {
          "output_type": "stream",
          "name": "stdout",
          "text": [
            "This is part of expression 1\n",
            "This is part of expression2\n",
            "This is also part of expression 1\n",
            "This is not part of any if statement\n"
          ]
        }
      ]
    },
    {
      "cell_type": "markdown",
      "source": [
        "#### The 'if_elif_else' statement"
      ],
      "metadata": {
        "id": "oQQamMSUn4n4"
      }
    },
    {
      "cell_type": "code",
      "source": [
        "age = int(input(\"Please enter your age: \"))\n",
        "\n",
        "if age < 18:\n",
        "    print(\"You are a minor\")\n",
        "elif age < 21:\n",
        "    print(\"You are an adult but cannot drink alcohol\")\n",
        "elif age < 35:\n",
        "    print(\"You are younger than 35\")\n",
        "else:\n",
        "    print(\"You are an adult\")\n",
        "\n",
        "print(\"If statement finished\")"
      ],
      "metadata": {
        "id": "fd5Ph92En4lk",
        "colab": {
          "base_uri": "https://localhost:8080/"
        },
        "outputId": "f69401ab-dc61-4c71-d722-7c5a0a106aee"
      },
      "execution_count": 14,
      "outputs": [
        {
          "output_type": "stream",
          "name": "stdout",
          "text": [
            "Please enter your age: 4\n",
            "You are a minor\n",
            "If statement finished\n"
          ]
        }
      ]
    },
    {
      "cell_type": "markdown",
      "source": [
        "#### Shortand if statement"
      ],
      "metadata": {
        "id": "qfB_yMBsn4dX"
      }
    },
    {
      "cell_type": "code",
      "source": [
        "a, b = 50, 20"
      ],
      "metadata": {
        "id": "M68w_o-Sn4aW"
      },
      "execution_count": null,
      "outputs": []
    },
    {
      "cell_type": "code",
      "source": [
        "if a > b: print(\"a > b\")"
      ],
      "metadata": {
        "colab": {
          "base_uri": "https://localhost:8080/"
        },
        "id": "3B1McUTxn4Xv",
        "outputId": "3296f157-9257-45c7-c910-3cd2a60853c8"
      },
      "execution_count": null,
      "outputs": [
        {
          "output_type": "stream",
          "name": "stdout",
          "text": [
            "a > b\n"
          ]
        }
      ]
    },
    {
      "cell_type": "code",
      "source": [
        "print (\"a > b\") if a > b else print(\"b > a\")"
      ],
      "metadata": {
        "colab": {
          "base_uri": "https://localhost:8080/"
        },
        "id": "pafrB5u4n4VP",
        "outputId": "d03b8488-0e54-4216-dec9-c585ae7fe992"
      },
      "execution_count": null,
      "outputs": [
        {
          "output_type": "stream",
          "name": "stdout",
          "text": [
            "a > b\n"
          ]
        }
      ]
    },
    {
      "cell_type": "code",
      "source": [
        "max = a if a > b else b\n",
        "print (max)"
      ],
      "metadata": {
        "colab": {
          "base_uri": "https://localhost:8080/"
        },
        "id": "G5E22JWnn4Ob",
        "outputId": "686f212c-61f7-40a9-8f8e-b8931643f905"
      },
      "execution_count": null,
      "outputs": [
        {
          "output_type": "stream",
          "name": "stdout",
          "text": [
            "50\n"
          ]
        }
      ]
    },
    {
      "cell_type": "markdown",
      "source": [
        "#### The pass keyword"
      ],
      "metadata": {
        "id": "8eq-QbcYn37w"
      }
    },
    {
      "cell_type": "code",
      "source": [
        "has_cat = False\n",
        "\n",
        "if has_cat: #This means --> if has_cat == true\n",
        "  pass\n",
        "else:\n",
        "  print(\"You should get a cat\")"
      ],
      "metadata": {
        "colab": {
          "base_uri": "https://localhost:8080/"
        },
        "id": "gniUDeB_n30Q",
        "outputId": "01825a6f-ede2-4756-fffd-bdcbcb54623e"
      },
      "execution_count": null,
      "outputs": [
        {
          "output_type": "stream",
          "name": "stdout",
          "text": [
            "You should get a cat\n"
          ]
        }
      ]
    },
    {
      "cell_type": "code",
      "source": [
        "has_dog = True\n",
        "\n",
        "if has_dog:\n",
        "  print(\"Awesome!\")\n",
        "else:\n",
        "  pass"
      ],
      "metadata": {
        "colab": {
          "base_uri": "https://localhost:8080/"
        },
        "id": "yNiUV-C97Nu7",
        "outputId": "bcee1e1a-1902-4d25-8c39-cb578d28f0f3"
      },
      "execution_count": null,
      "outputs": [
        {
          "output_type": "stream",
          "name": "stdout",
          "text": [
            "Awesome!\n"
          ]
        }
      ]
    },
    {
      "cell_type": "markdown",
      "source": [
        "#### Practice"
      ],
      "metadata": {
        "id": "S6D48s4c7Nrh"
      }
    },
    {
      "cell_type": "code",
      "source": [
        "import random"
      ],
      "metadata": {
        "id": "y5Of3FVN7Nl7"
      },
      "execution_count": 15,
      "outputs": []
    },
    {
      "cell_type": "code",
      "source": [
        "nb = random.randint(0, 100) # Importing the 'random' module\n",
        "print(f\"Number {nb} is even\") if nb % 2 == 0 else print(f\"Number {nb} is odd\")\n",
        "## Using a conditional expression to check if 'nb' is even or odd, and printing the corresponding message"
      ],
      "metadata": {
        "colab": {
          "base_uri": "https://localhost:8080/"
        },
        "id": "K0ibqchz7Njw",
        "outputId": "d6546cff-7d4e-4d29-b5ec-ba2d19df0a58"
      },
      "execution_count": 17,
      "outputs": [
        {
          "output_type": "stream",
          "name": "stdout",
          "text": [
            "Number 75 is odd\n"
          ]
        }
      ]
    },
    {
      "cell_type": "code",
      "source": [
        "numb = int(input('Please enter a number from 0-100: '))\n",
        "\n",
        "print(f\"Number {numb} is even\") if numb % 2 == 0 else print(f\"Number {numb} is odd\")"
      ],
      "metadata": {
        "colab": {
          "base_uri": "https://localhost:8080/"
        },
        "id": "hUEJEMuV7Ng7",
        "outputId": "06139329-d402-48d7-8cae-efba3af4bd28"
      },
      "execution_count": 18,
      "outputs": [
        {
          "output_type": "stream",
          "name": "stdout",
          "text": [
            "Please enter a number from 0-100: 6\n",
            "Number 6 is even\n"
          ]
        }
      ]
    },
    {
      "cell_type": "code",
      "source": [
        "### question one\n",
        "client_purchases = {\n",
        "    \"Client1\": [\"hammer\", \"nails\", \"saw\"],\n",
        "    \"Client2\": [\"screwdriver\", \"wrench\"],\n",
        "    \"Client3\": [\"paintbrush\", \"roller\"],\n",
        "}\n",
        "\n",
        "def has_purchased_hammer(client):\n",
        "    if client in client_purchases:\n",
        "        purchases = client_purchases[client]\n",
        "        return \"hammer\" in purchases\n",
        "    return False\n",
        "\n",
        "client_name = \"Client1\"\n",
        "if has_purchased_hammer(client_name):\n",
        "    print(f\"{client_name} has purchased a hammer.\")\n",
        "else:\n",
        "    print(f\"{client_name} has not purchased a hammer.\")\n"
      ],
      "metadata": {
        "colab": {
          "base_uri": "https://localhost:8080/"
        },
        "id": "CitqFtfu7Nd4",
        "outputId": "6bf17f5b-31e5-4c6e-eb31-9fcfd02f76a0"
      },
      "execution_count": 19,
      "outputs": [
        {
          "output_type": "stream",
          "name": "stdout",
          "text": [
            "Client1 has purchased a hammer.\n"
          ]
        }
      ]
    },
    {
      "cell_type": "markdown",
      "source": [],
      "metadata": {
        "id": "aED_Y6ExBxdH"
      }
    },
    {
      "cell_type": "markdown",
      "source": [
        "#### Loops"
      ],
      "metadata": {
        "id": "WqYreTEd7Naf"
      }
    },
    {
      "cell_type": "markdown",
      "source": [
        "## The `for` Loop"
      ],
      "metadata": {
        "id": "L39I9vvO7NX9"
      }
    },
    {
      "cell_type": "code",
      "source": [
        "animals = ['cat', 'dog', 'horse']\n",
        "for animal in animals:\n",
        "    print(f\"There is a {animal}\")\n",
        "    # # Printing a formatted string indicating the presence of each animal"
      ],
      "metadata": {
        "id": "139uq6M07NVb",
        "colab": {
          "base_uri": "https://localhost:8080/"
        },
        "outputId": "e0037495-87e4-4dde-8b14-41175f2ae6c0"
      },
      "execution_count": 21,
      "outputs": [
        {
          "output_type": "stream",
          "name": "stdout",
          "text": [
            "There is a cat\n",
            "There is a dog\n",
            "There is a horse\n"
          ]
        }
      ]
    },
    {
      "cell_type": "code",
      "source": [
        "for letter in 'pineapple': ## Iterating over each character in the string 'pineapple'\n",
        "    print(letter.upper())"
      ],
      "metadata": {
        "id": "hwFPCPXr7NSr",
        "colab": {
          "base_uri": "https://localhost:8080/"
        },
        "outputId": "e9c8bcc1-a94c-4564-b6b9-ca2b6a22d2ac"
      },
      "execution_count": 22,
      "outputs": [
        {
          "output_type": "stream",
          "name": "stdout",
          "text": [
            "P\n",
            "I\n",
            "N\n",
            "E\n",
            "A\n",
            "P\n",
            "P\n",
            "L\n",
            "E\n"
          ]
        }
      ]
    },
    {
      "cell_type": "code",
      "source": [
        "for number in range(0, 20, 2):\n",
        "    print(f\"{number} is an even number\")\n",
        "    ## Printing a formatted string indicating that the current number is even"
      ],
      "metadata": {
        "colab": {
          "base_uri": "https://localhost:8080/"
        },
        "id": "fYQJWWbxGAj2",
        "outputId": "2bf5c48b-abfc-4ae5-86a6-1ffdb1c299ff"
      },
      "execution_count": 23,
      "outputs": [
        {
          "output_type": "stream",
          "name": "stdout",
          "text": [
            "0 is an even number\n",
            "2 is an even number\n",
            "4 is an even number\n",
            "6 is an even number\n",
            "8 is an even number\n",
            "10 is an even number\n",
            "12 is an even number\n",
            "14 is an even number\n",
            "16 is an even number\n",
            "18 is an even number\n"
          ]
        }
      ]
    },
    {
      "cell_type": "markdown",
      "source": [
        "####break and continue"
      ],
      "metadata": {
        "id": "1Iu6K9XlGCoV"
      }
    },
    {
      "cell_type": "code",
      "source": [
        "for number in range(0, 20, 2): ## Iterating over a range of numbers from 0 to 20 (exclusive), incrementing by 2\n",
        "    print(f\"{number} is an even number\")\n",
        "    if number == 10:\n",
        "        print(\"On ho! Not 10\") ## Checking if the current number is equal to 10\n",
        "        break\n",
        "print(\"Next steps in out code\")"
      ],
      "metadata": {
        "colab": {
          "base_uri": "https://localhost:8080/"
        },
        "id": "1w3oxuLnGGhp",
        "outputId": "39a6e629-eb53-4ac1-ecb5-b7934f915e65"
      },
      "execution_count": 25,
      "outputs": [
        {
          "output_type": "stream",
          "name": "stdout",
          "text": [
            "0 is an even number\n",
            "2 is an even number\n",
            "4 is an even number\n",
            "6 is an even number\n",
            "8 is an even number\n",
            "10 is an even number\n",
            "On ho! Not 10\n",
            "Next steps in out code\n"
          ]
        }
      ]
    },
    {
      "cell_type": "code",
      "source": [
        "for number in range(0, 20, 2): # Iterating over a range of numbers from 0 to 19 (inclusive) with a step of 2\n",
        "    if number == 10:\n",
        "        print(\"We are not executing 10\")\n",
        "        continue\n",
        "    print(f\"{number} is an even number\")"
      ],
      "metadata": {
        "colab": {
          "base_uri": "https://localhost:8080/"
        },
        "id": "r4aGJg7mGJtX",
        "outputId": "6cc45905-e123-49a6-a816-c28a86071844"
      },
      "execution_count": 26,
      "outputs": [
        {
          "output_type": "stream",
          "name": "stdout",
          "text": [
            "0 is an even number\n",
            "2 is an even number\n",
            "4 is an even number\n",
            "6 is an even number\n",
            "8 is an even number\n",
            "We are not executing 10\n",
            "12 is an even number\n",
            "14 is an even number\n",
            "16 is an even number\n",
            "18 is an even number\n"
          ]
        }
      ]
    },
    {
      "cell_type": "markdown",
      "source": [
        "####Practice"
      ],
      "metadata": {
        "id": "AkV0fQueGMAq"
      }
    },
    {
      "cell_type": "code",
      "source": [
        "for i in range(0, 10): # Looping through the range of numbers from 0 to 9 (10 is exclusive)\n",
        "    print(\"Hello for loop\")"
      ],
      "metadata": {
        "colab": {
          "base_uri": "https://localhost:8080/"
        },
        "id": "PEyfIQb3GQiV",
        "outputId": "cfc54935-a833-461b-f74c-b9405b1dfcba"
      },
      "execution_count": 27,
      "outputs": [
        {
          "output_type": "stream",
          "name": "stdout",
          "text": [
            "Hello for loop\n",
            "Hello for loop\n",
            "Hello for loop\n",
            "Hello for loop\n",
            "Hello for loop\n",
            "Hello for loop\n",
            "Hello for loop\n",
            "Hello for loop\n",
            "Hello for loop\n",
            "Hello for loop\n"
          ]
        }
      ]
    },
    {
      "cell_type": "code",
      "source": [
        "sum = 0 # Initializing a variable 'sum' with value 0\n",
        "for number in range(0, 101):\n",
        "    if number % 10 == 0:\n",
        "        continue\n",
        "    sum += number # Add the current number to the 'sum' variable\n",
        "print(f\"The sum is {sum}\")\n"
      ],
      "metadata": {
        "colab": {
          "base_uri": "https://localhost:8080/"
        },
        "id": "4-eEjQK_GQex",
        "outputId": "8f99e33c-a49c-4ddf-b40b-a4828451a349"
      },
      "execution_count": 28,
      "outputs": [
        {
          "output_type": "stream",
          "name": "stdout",
          "text": [
            "The sum is 4500\n"
          ]
        }
      ]
    },
    {
      "cell_type": "code",
      "source": [
        "customers = {\n",
        "    'Alice': 4,\n",
        "    'Judy': 8,\n",
        "    'Anna': 6\n",
        "}\n",
        "for customer in customers:\n",
        "  # Accessing the value associated with the current key and printing a formatted string\n",
        "    print(\"{} has made {} purchases\".format(customer, customers[customer]))"
      ],
      "metadata": {
        "colab": {
          "base_uri": "https://localhost:8080/"
        },
        "id": "Mnc6mWD1GYU4",
        "outputId": "085b1687-90a7-44c1-b5fd-f87f8b0ec78b"
      },
      "execution_count": 29,
      "outputs": [
        {
          "output_type": "stream",
          "name": "stdout",
          "text": [
            "Alice has made 4 purchases\n",
            "Judy has made 8 purchases\n",
            "Anna has made 6 purchases\n"
          ]
        }
      ]
    },
    {
      "cell_type": "markdown",
      "source": [
        "####Using else with for Loops"
      ],
      "metadata": {
        "id": "DvFEYtJ5GbZr"
      }
    },
    {
      "cell_type": "code",
      "source": [
        "numbers1 = [1, 5, 9, 5, 7, 3]\n",
        "numbers2 = [2, 8, 6, 2, 4, 10]\n",
        "\n",
        "for number in numbers2:\n",
        "    if number % 2 == 0:\n",
        "        print(\"List contains at least 1 even number\")\n",
        "        # Printing a message indicating the presence of an even number\n",
        "        break\n",
        "else:\n",
        "    print(\"The list does not contain any even numbers\")"
      ],
      "metadata": {
        "colab": {
          "base_uri": "https://localhost:8080/"
        },
        "id": "PMibCvAPGfe8",
        "outputId": "5132d43a-7d39-4985-e6d0-84e523aa2b25"
      },
      "execution_count": 30,
      "outputs": [
        {
          "output_type": "stream",
          "name": "stdout",
          "text": [
            "List contains at least 1 even number\n"
          ]
        }
      ]
    },
    {
      "cell_type": "markdown",
      "source": [
        "####Nested Loops"
      ],
      "metadata": {
        "id": "UHxuTxcoGfbb"
      }
    },
    {
      "cell_type": "code",
      "source": [
        "for x in range(6):\n",
        "    for y in range(6):\n",
        "        print(f\"{x} * {y} = {x * y}\")\n",
        "        # Printing the multiplication table for x and y"
      ],
      "metadata": {
        "colab": {
          "base_uri": "https://localhost:8080/"
        },
        "id": "tsGLRh9-GfYl",
        "outputId": "c9c93d56-0fae-43ff-f010-29e27cd97e22"
      },
      "execution_count": 31,
      "outputs": [
        {
          "output_type": "stream",
          "name": "stdout",
          "text": [
            "0 * 0 = 0\n",
            "0 * 1 = 0\n",
            "0 * 2 = 0\n",
            "0 * 3 = 0\n",
            "0 * 4 = 0\n",
            "0 * 5 = 0\n",
            "1 * 0 = 0\n",
            "1 * 1 = 1\n",
            "1 * 2 = 2\n",
            "1 * 3 = 3\n",
            "1 * 4 = 4\n",
            "1 * 5 = 5\n",
            "2 * 0 = 0\n",
            "2 * 1 = 2\n",
            "2 * 2 = 4\n",
            "2 * 3 = 6\n",
            "2 * 4 = 8\n",
            "2 * 5 = 10\n",
            "3 * 0 = 0\n",
            "3 * 1 = 3\n",
            "3 * 2 = 6\n",
            "3 * 3 = 9\n",
            "3 * 4 = 12\n",
            "3 * 5 = 15\n",
            "4 * 0 = 0\n",
            "4 * 1 = 4\n",
            "4 * 2 = 8\n",
            "4 * 3 = 12\n",
            "4 * 4 = 16\n",
            "4 * 5 = 20\n",
            "5 * 0 = 0\n",
            "5 * 1 = 5\n",
            "5 * 2 = 10\n",
            "5 * 3 = 15\n",
            "5 * 4 = 20\n",
            "5 * 5 = 25\n"
          ]
        }
      ]
    },
    {
      "cell_type": "code",
      "source": [
        "size = 5\n",
        "# Outer loop iterates over values from 0 to size-1 for the x-coordinate\n",
        "for x in range(size):\n",
        "    for y in range(size):\n",
        "        print(f\"{x},{y}\\t\\t\", end='')\n",
        "    print()"
      ],
      "metadata": {
        "colab": {
          "base_uri": "https://localhost:8080/"
        },
        "id": "Zgm4ahh3GnNe",
        "outputId": "52531b8d-9a5c-4094-bebf-9540d0d63144"
      },
      "execution_count": 32,
      "outputs": [
        {
          "output_type": "stream",
          "name": "stdout",
          "text": [
            "0,0\t\t0,1\t\t0,2\t\t0,3\t\t0,4\t\t\n",
            "1,0\t\t1,1\t\t1,2\t\t1,3\t\t1,4\t\t\n",
            "2,0\t\t2,1\t\t2,2\t\t2,3\t\t2,4\t\t\n",
            "3,0\t\t3,1\t\t3,2\t\t3,3\t\t3,4\t\t\n",
            "4,0\t\t4,1\t\t4,2\t\t4,3\t\t4,4\t\t\n"
          ]
        }
      ]
    },
    {
      "cell_type": "code",
      "source": [
        "for x in range(size):\n",
        "    for y in range(size):\n",
        "        if (x + y) % 2:\n",
        "            print(\"\\U0001F600\\t\", end='')\n",
        "        else:\n",
        "            print(\"\\U0001F60D\\t\", end='')\n",
        "    print()"
      ],
      "metadata": {
        "colab": {
          "base_uri": "https://localhost:8080/"
        },
        "id": "SbQ6tRaQGppj",
        "outputId": "cec3f6b7-620b-45d5-8beb-ef4864c0e6f5"
      },
      "execution_count": 33,
      "outputs": [
        {
          "output_type": "stream",
          "name": "stdout",
          "text": [
            "😍\t😀\t😍\t😀\t😍\t\n",
            "😀\t😍\t😀\t😍\t😀\t\n",
            "😍\t😀\t😍\t😀\t😍\t\n",
            "😀\t😍\t😀\t😍\t😀\t\n",
            "😍\t😀\t😍\t😀\t😍\t\n"
          ]
        }
      ]
    },
    {
      "cell_type": "markdown",
      "source": [
        "####The while Loop"
      ],
      "metadata": {
        "id": "3VpmVD9PGr7Y"
      }
    },
    {
      "cell_type": "code",
      "source": [
        "i = 0\n",
        "while i < 6:\n",
        "    print(i)\n",
        "    i += 1"
      ],
      "metadata": {
        "colab": {
          "base_uri": "https://localhost:8080/"
        },
        "id": "ZaNtDAUjGwEN",
        "outputId": "d3981d0a-8278-4245-80bb-2cbb133dc373"
      },
      "execution_count": 35,
      "outputs": [
        {
          "output_type": "stream",
          "name": "stdout",
          "text": [
            "0\n",
            "1\n",
            "2\n",
            "3\n",
            "4\n",
            "5\n"
          ]
        }
      ]
    },
    {
      "cell_type": "code",
      "source": [
        "puzzle_pieces = 20\n",
        "pieces_placed = 0\n",
        "# A while loop that continues until the number of pieces placed is equal to the total number of puzzle pieces\n",
        "while pieces_placed < puzzle_pieces:\n",
        "    pieces_placed += 1\n",
        "    print(f\"Piece {pieces_placed} placed\")"
      ],
      "metadata": {
        "colab": {
          "base_uri": "https://localhost:8080/"
        },
        "id": "d1ZNCSP1GzhC",
        "outputId": "f07f0bea-4ce0-4777-ce04-6daa8a6a11ad"
      },
      "execution_count": 36,
      "outputs": [
        {
          "output_type": "stream",
          "name": "stdout",
          "text": [
            "Piece 1 placed\n",
            "Piece 2 placed\n",
            "Piece 3 placed\n",
            "Piece 4 placed\n",
            "Piece 5 placed\n",
            "Piece 6 placed\n",
            "Piece 7 placed\n",
            "Piece 8 placed\n",
            "Piece 9 placed\n",
            "Piece 10 placed\n",
            "Piece 11 placed\n",
            "Piece 12 placed\n",
            "Piece 13 placed\n",
            "Piece 14 placed\n",
            "Piece 15 placed\n",
            "Piece 16 placed\n",
            "Piece 17 placed\n",
            "Piece 18 placed\n",
            "Piece 19 placed\n",
            "Piece 20 placed\n"
          ]
        }
      ]
    },
    {
      "cell_type": "markdown",
      "source": [
        "####Using else with while Loops"
      ],
      "metadata": {
        "id": "ls-XZTD0G13r"
      }
    },
    {
      "cell_type": "code",
      "source": [
        "i = 1\n",
        "while i < 10:\n",
        "    i += 3\n",
        "    if i % 2 == 0:\n",
        "        print(\"Sequence contains an even number\")\n",
        "        break\n",
        "else:\n",
        "    print(\"Sequence does not contain an even number\")"
      ],
      "metadata": {
        "colab": {
          "base_uri": "https://localhost:8080/"
        },
        "id": "oNGKfpy3G6Qe",
        "outputId": "3efe2d66-2598-4b2a-8bf8-adda41e7b158"
      },
      "execution_count": 37,
      "outputs": [
        {
          "output_type": "stream",
          "name": "stdout",
          "text": [
            "Sequence contains an even number\n"
          ]
        }
      ]
    },
    {
      "cell_type": "markdown",
      "source": [
        "####A bit of Practice"
      ],
      "metadata": {
        "id": "DF73q3RCG6NF"
      }
    },
    {
      "cell_type": "code",
      "source": [
        "i = 0\n",
        "while i < 10:\n",
        "    i += 1\n",
        "    print(f\"{i}. Hello while loop\")"
      ],
      "metadata": {
        "colab": {
          "base_uri": "https://localhost:8080/"
        },
        "id": "a3YUE0r2G6Kp",
        "outputId": "d63f92f9-fa5d-4b12-ba96-d6461b5c7997"
      },
      "execution_count": 38,
      "outputs": [
        {
          "output_type": "stream",
          "name": "stdout",
          "text": [
            "1. Hello while loop\n",
            "2. Hello while loop\n",
            "3. Hello while loop\n",
            "4. Hello while loop\n",
            "5. Hello while loop\n",
            "6. Hello while loop\n",
            "7. Hello while loop\n",
            "8. Hello while loop\n",
            "9. Hello while loop\n",
            "10. Hello while loop\n"
          ]
        }
      ]
    },
    {
      "cell_type": "code",
      "source": [
        "cats = ['Tigger', 'Smokey', 'Sassy', 'Patch', 'Sammy']\n",
        "i = 0\n",
        "while i < len(cats):\n",
        "    print(f\"Hello {cats[i]}\")\n",
        "    i += 1\n"
      ],
      "metadata": {
        "colab": {
          "base_uri": "https://localhost:8080/"
        },
        "id": "-P-P-ph3G6ID",
        "outputId": "be6c3c77-bf50-4391-a20a-15d6713ebad3"
      },
      "execution_count": 39,
      "outputs": [
        {
          "output_type": "stream",
          "name": "stdout",
          "text": [
            "Hello Tigger\n",
            "Hello Smokey\n",
            "Hello Sassy\n",
            "Hello Patch\n",
            "Hello Sammy\n"
          ]
        }
      ]
    },
    {
      "cell_type": "code",
      "source": [
        "number = int(input(\"Please enter a number:\\n\"))\n",
        "factorial = 1\n",
        "i = 1\n",
        "while i <= number:\n",
        "    factorial *= i\n",
        "    i += 1\n",
        "print(f\"{number}! = {factorial}\")"
      ],
      "metadata": {
        "colab": {
          "base_uri": "https://localhost:8080/"
        },
        "id": "4_WQiLVNG6Fm",
        "outputId": "1ef613d1-84aa-4c39-98b8-8b199b3bc928"
      },
      "execution_count": 40,
      "outputs": [
        {
          "output_type": "stream",
          "name": "stdout",
          "text": [
            "Please enter a number:\n",
            "5\n",
            "5! = 120\n"
          ]
        }
      ]
    },
    {
      "cell_type": "code",
      "source": [
        "i = 0\n",
        "while True:\n",
        "    print(i)\n",
        "    i += 1\n",
        "    if i >= 10:\n",
        "        break"
      ],
      "metadata": {
        "colab": {
          "base_uri": "https://localhost:8080/"
        },
        "id": "yWRGb4RrG6Cz",
        "outputId": "84c15389-faea-487d-8388-1e2f6288d8ff"
      },
      "execution_count": 41,
      "outputs": [
        {
          "output_type": "stream",
          "name": "stdout",
          "text": [
            "0\n",
            "1\n",
            "2\n",
            "3\n",
            "4\n",
            "5\n",
            "6\n",
            "7\n",
            "8\n",
            "9\n"
          ]
        }
      ]
    }
  ]
}